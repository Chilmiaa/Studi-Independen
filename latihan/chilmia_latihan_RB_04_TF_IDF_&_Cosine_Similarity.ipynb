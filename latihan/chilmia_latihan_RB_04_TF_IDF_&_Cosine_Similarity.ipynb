{
  "nbformat": 4,
  "nbformat_minor": 0,
  "metadata": {
    "colab": {
      "provenance": [],
      "collapsed_sections": []
    },
    "kernelspec": {
      "name": "python3",
      "display_name": "Python 3"
    },
    "language_info": {
      "name": "python"
    }
  },
  "cells": [
    {
      "cell_type": "markdown",
      "metadata": {
        "id": "cjDtFEQ-WeIM"
      },
      "source": [
        "## LATIHAN\n",
        "\n"
      ]
    },
    {
      "cell_type": "markdown",
      "source": [
        "1.  Hitung TF_IDF pada contoh kalimat yang digunakan pada cosine similarity \n",
        "2.   Hitung cosine similarity pada kalimat berikut: \n",
        "\n",
        "*   Pengiriman dan kualitas produk sangat baik\n",
        "*  Produk tidak sesuai gambar tapi memang sesuai harga\n",
        "*   tidak sesuai ekspektasi produk berbeda dengan gambar\n",
        "\n",
        "\n",
        "\n"
      ],
      "metadata": {
        "id": "FnKlIlrJWmb3"
      }
    },
    {
      "cell_type": "code",
      "source": [
        "import nltk\n",
        "from nltk.tokenize import word_tokenize\n",
        "from gensim.models import Word2Vec\n",
        "import re"
      ],
      "metadata": {
        "id": "5mGU67xYXBES"
      },
      "execution_count": 2,
      "outputs": []
    },
    {
      "cell_type": "code",
      "source": [
        "nltk.download('punkt')"
      ],
      "metadata": {
        "colab": {
          "base_uri": "https://localhost:8080/"
        },
        "id": "nkTusk5wFktc",
        "outputId": "00376949-ac45-4237-fc0b-57474ff5ef22"
      },
      "execution_count": 3,
      "outputs": [
        {
          "output_type": "stream",
          "name": "stderr",
          "text": [
            "[nltk_data] Downloading package punkt to /root/nltk_data...\n",
            "[nltk_data]   Unzipping tokenizers/punkt.zip.\n"
          ]
        },
        {
          "output_type": "execute_result",
          "data": {
            "text/plain": [
              "True"
            ]
          },
          "metadata": {},
          "execution_count": 3
        }
      ]
    },
    {
      "cell_type": "code",
      "source": [
        "komentar = [\n",
        "          \"Pengiriman dan kualitas produk sangat baik\",\n",
        "          \"Produk tidak sesuai gambar tapi memang sesuai harga\",\n",
        "          \"Tidak sesuai ekspetasi produk berbeda dengan gambar\",\n",
        "]"
      ],
      "metadata": {
        "id": "aO9ba8caFmMc"
      },
      "execution_count": 4,
      "outputs": []
    },
    {
      "cell_type": "code",
      "source": [
        "komentar = [re.sub(r'[,.]', '',k) for k in komentar]\n",
        "komentar"
      ],
      "metadata": {
        "colab": {
          "base_uri": "https://localhost:8080/"
        },
        "id": "i-chEw18F_Y_",
        "outputId": "acc3efa7-2055-4cba-c6c2-6e63437f6001"
      },
      "execution_count": 5,
      "outputs": [
        {
          "output_type": "execute_result",
          "data": {
            "text/plain": [
              "['Pengiriman dan kualitas produk sangat baik',\n",
              " 'Produk tidak sesuai gambar tapi memang sesuai harga',\n",
              " 'Tidak sesuai ekspetasi produk berbeda dengan gambar']"
            ]
          },
          "metadata": {},
          "execution_count": 5
        }
      ]
    },
    {
      "cell_type": "code",
      "source": [
        "corpus = [word_tokenize(k.lower()) for k in komentar]\n",
        "corpus"
      ],
      "metadata": {
        "colab": {
          "base_uri": "https://localhost:8080/"
        },
        "id": "HoiKCceqGHd3",
        "outputId": "a1ddd241-ca0b-42c1-e1ac-6ab59982f089"
      },
      "execution_count": 6,
      "outputs": [
        {
          "output_type": "execute_result",
          "data": {
            "text/plain": [
              "[['pengiriman', 'dan', 'kualitas', 'produk', 'sangat', 'baik'],\n",
              " ['produk', 'tidak', 'sesuai', 'gambar', 'tapi', 'memang', 'sesuai', 'harga'],\n",
              " ['tidak', 'sesuai', 'ekspetasi', 'produk', 'berbeda', 'dengan', 'gambar']]"
            ]
          },
          "metadata": {},
          "execution_count": 6
        }
      ]
    },
    {
      "cell_type": "code",
      "source": [
        "model = Word2Vec(corpus, size=100, window=5, workers=2, min_count=1, iter=100)"
      ],
      "metadata": {
        "id": "3lLbr3zVGIvr"
      },
      "execution_count": 7,
      "outputs": []
    },
    {
      "cell_type": "code",
      "source": [
        "model.save(\"komentar_app.w2v\")"
      ],
      "metadata": {
        "id": "r5d-JEFKGMlU"
      },
      "execution_count": 8,
      "outputs": []
    },
    {
      "cell_type": "code",
      "source": [
        "model = Word2Vec.load(\"komentar_app.w2v\")"
      ],
      "metadata": {
        "id": "ZOJ1SZqYGVtb"
      },
      "execution_count": 9,
      "outputs": []
    },
    {
      "cell_type": "code",
      "source": [
        "w2v = model.wv"
      ],
      "metadata": {
        "id": "kpBdN4ASGYDv"
      },
      "execution_count": 10,
      "outputs": []
    },
    {
      "cell_type": "code",
      "source": [
        "w2v.index2word"
      ],
      "metadata": {
        "colab": {
          "base_uri": "https://localhost:8080/"
        },
        "id": "sw9rIFTsGjYP",
        "outputId": "ad92425f-4d86-498c-bd53-af90391b73ea"
      },
      "execution_count": 11,
      "outputs": [
        {
          "output_type": "execute_result",
          "data": {
            "text/plain": [
              "['produk',\n",
              " 'sesuai',\n",
              " 'tidak',\n",
              " 'gambar',\n",
              " 'pengiriman',\n",
              " 'dan',\n",
              " 'kualitas',\n",
              " 'sangat',\n",
              " 'baik',\n",
              " 'tapi',\n",
              " 'memang',\n",
              " 'harga',\n",
              " 'ekspetasi',\n",
              " 'berbeda',\n",
              " 'dengan']"
            ]
          },
          "metadata": {},
          "execution_count": 11
        }
      ]
    },
    {
      "cell_type": "code",
      "source": [
        "w2v.vectors"
      ],
      "metadata": {
        "colab": {
          "base_uri": "https://localhost:8080/"
        },
        "id": "QXIvvAksGq1_",
        "outputId": "0c50f13f-b12e-49cf-b6b7-d9c11237e573"
      },
      "execution_count": 12,
      "outputs": [
        {
          "output_type": "execute_result",
          "data": {
            "text/plain": [
              "array([[-2.8967590e-03,  1.0625179e-03,  3.5754445e-03, ...,\n",
              "        -2.3519641e-03, -2.6132553e-03,  1.0425842e-03],\n",
              "       [-4.8069288e-03,  5.2756397e-04,  3.2745709e-03, ...,\n",
              "        -2.4503185e-03,  4.8163309e-04, -2.9213126e-03],\n",
              "       [ 3.1549558e-03, -3.2017014e-03, -3.9555450e-04, ...,\n",
              "         7.1567402e-04, -3.6655072e-04,  4.0962081e-03],\n",
              "       ...,\n",
              "       [-9.5968237e-05,  4.1500884e-03,  1.9615854e-03, ...,\n",
              "         2.6837323e-04,  3.0291164e-03,  1.9238278e-03],\n",
              "       [ 4.2936099e-03, -4.0520905e-03, -3.2798403e-03, ...,\n",
              "         2.4238836e-03, -3.3226800e-03,  2.7212689e-03],\n",
              "       [-4.9329838e-03, -1.1588450e-03, -5.0866208e-04, ...,\n",
              "        -4.6670586e-03,  2.6914165e-03, -3.2729866e-05]], dtype=float32)"
            ]
          },
          "metadata": {},
          "execution_count": 12
        }
      ]
    },
    {
      "cell_type": "code",
      "source": [
        "w2v.vector_size"
      ],
      "metadata": {
        "colab": {
          "base_uri": "https://localhost:8080/"
        },
        "id": "rTg_BWIlGtk9",
        "outputId": "d1e12a2c-4659-4d13-b4cf-157f791018fc"
      },
      "execution_count": 13,
      "outputs": [
        {
          "output_type": "execute_result",
          "data": {
            "text/plain": [
              "100"
            ]
          },
          "metadata": {},
          "execution_count": 13
        }
      ]
    },
    {
      "cell_type": "code",
      "source": [
        "w2v['berbeda']"
      ],
      "metadata": {
        "colab": {
          "base_uri": "https://localhost:8080/"
        },
        "id": "h0-gktPyGvnH",
        "outputId": "0e326a1d-d7e2-4673-a676-141d373d4320"
      },
      "execution_count": 14,
      "outputs": [
        {
          "output_type": "execute_result",
          "data": {
            "text/plain": [
              "array([ 4.2936099e-03, -4.0520905e-03, -3.2798403e-03,  4.3448196e-03,\n",
              "       -3.5039391e-03, -2.3288669e-03,  2.8897738e-04, -3.6281045e-03,\n",
              "        2.5686931e-03, -4.5520226e-03,  4.7237850e-03, -4.8759724e-03,\n",
              "        1.1434786e-03,  2.9036559e-03, -2.7716386e-03,  1.5114140e-03,\n",
              "        3.5369701e-03,  2.7020294e-03, -2.4610760e-03, -3.1067738e-03,\n",
              "        2.4950667e-03,  7.9624479e-05, -2.0555132e-03, -2.9921383e-03,\n",
              "       -8.5852150e-04, -4.9385764e-03,  3.7155051e-03, -3.7814516e-03,\n",
              "        1.5488744e-03, -1.8817739e-03, -1.2329242e-03, -2.1682594e-03,\n",
              "        4.4309851e-03, -2.5146508e-03,  3.8086670e-03,  1.2400890e-03,\n",
              "        4.5922142e-03, -2.5009960e-03,  3.2093162e-03,  8.2658709e-04,\n",
              "       -3.7954291e-03,  1.5009469e-03, -1.1200422e-03,  1.8465348e-03,\n",
              "        3.6953569e-03, -3.8839050e-03, -3.7287849e-03,  3.1017885e-03,\n",
              "       -2.6534151e-04,  4.1103112e-03,  3.4023304e-03,  3.1505972e-03,\n",
              "       -1.3913540e-03,  4.0974061e-04, -1.4644851e-03,  3.3498469e-03,\n",
              "       -4.6892179e-04,  2.9144082e-03, -1.8926566e-03,  4.7659427e-03,\n",
              "       -4.0765563e-03,  2.7392272e-04, -1.1065621e-03,  3.6165868e-03,\n",
              "        3.7809778e-03, -6.3072820e-04,  2.0260080e-03,  4.8242649e-03,\n",
              "       -1.4279283e-03, -2.7340639e-03, -1.8498880e-03, -1.6776033e-03,\n",
              "       -1.4018228e-03, -1.1055742e-03, -3.3694271e-03, -7.0903223e-04,\n",
              "        4.1983631e-03,  3.7535848e-03,  3.1336602e-03,  5.0089280e-03,\n",
              "        1.6854850e-03,  2.3364900e-03,  3.6877070e-03,  3.1004755e-03,\n",
              "        2.9260586e-03,  1.8300918e-03,  1.9236676e-03,  2.9835694e-03,\n",
              "       -1.3355147e-03, -4.9492074e-03, -4.0856437e-03,  2.1852537e-03,\n",
              "        1.2628555e-03,  2.8101080e-03,  4.4757202e-03,  4.3859789e-03,\n",
              "        1.3654429e-03,  2.4238836e-03, -3.3226800e-03,  2.7212689e-03],\n",
              "      dtype=float32)"
            ]
          },
          "metadata": {},
          "execution_count": 14
        }
      ]
    },
    {
      "cell_type": "code",
      "source": [
        "w2v.similar_by_word(\"produk\", topn=5)"
      ],
      "metadata": {
        "colab": {
          "base_uri": "https://localhost:8080/"
        },
        "id": "3WtSm4PLHMVV",
        "outputId": "6a4ce825-5777-4427-efeb-7e62703f2582"
      },
      "execution_count": 15,
      "outputs": [
        {
          "output_type": "execute_result",
          "data": {
            "text/plain": [
              "[('harga', 0.20628622174263),\n",
              " ('gambar', 0.20123113691806793),\n",
              " ('kualitas', 0.16451053321361542),\n",
              " ('sangat', 0.1326817274093628),\n",
              " ('tapi', 0.12543325126171112)]"
            ]
          },
          "metadata": {},
          "execution_count": 15
        }
      ]
    },
    {
      "cell_type": "markdown",
      "source": [
        "#TF-IDF"
      ],
      "metadata": {
        "id": "b_SrdZ7R2c1k"
      }
    },
    {
      "cell_type": "code",
      "source": [
        "komentar"
      ],
      "metadata": {
        "colab": {
          "base_uri": "https://localhost:8080/"
        },
        "id": "hqeZf9w62gPc",
        "outputId": "0a5fb8e8-2ccb-4c47-c65c-083397fca105"
      },
      "execution_count": 16,
      "outputs": [
        {
          "output_type": "execute_result",
          "data": {
            "text/plain": [
              "['Pengiriman dan kualitas produk sangat baik',\n",
              " 'Produk tidak sesuai gambar tapi memang sesuai harga',\n",
              " 'Tidak sesuai ekspetasi produk berbeda dengan gambar']"
            ]
          },
          "metadata": {},
          "execution_count": 16
        }
      ]
    },
    {
      "cell_type": "code",
      "source": [
        "from sklearn.feature_extraction.text import TfidfVectorizer\n",
        "import pandas as pd\n",
        "\n",
        "vectorizer = TfidfVectorizer()\n",
        "result = vectorizer.fit_transform(komentar)"
      ],
      "metadata": {
        "id": "BojluC292iXd"
      },
      "execution_count": 17,
      "outputs": []
    },
    {
      "cell_type": "code",
      "source": [
        "print(vectorizer.get_feature_names())"
      ],
      "metadata": {
        "colab": {
          "base_uri": "https://localhost:8080/"
        },
        "id": "HtvNs0ys2qNC",
        "outputId": "399be2d9-6318-4bd4-a710-4779c0f75f6e"
      },
      "execution_count": 18,
      "outputs": [
        {
          "output_type": "stream",
          "name": "stdout",
          "text": [
            "['baik', 'berbeda', 'dan', 'dengan', 'ekspetasi', 'gambar', 'harga', 'kualitas', 'memang', 'pengiriman', 'produk', 'sangat', 'sesuai', 'tapi', 'tidak']\n"
          ]
        },
        {
          "output_type": "stream",
          "name": "stderr",
          "text": [
            "/usr/local/lib/python3.7/dist-packages/sklearn/utils/deprecation.py:87: FutureWarning: Function get_feature_names is deprecated; get_feature_names is deprecated in 1.0 and will be removed in 1.2. Please use get_feature_names_out instead.\n",
            "  warnings.warn(msg, category=FutureWarning)\n"
          ]
        }
      ]
    },
    {
      "cell_type": "code",
      "source": [
        "print(result)"
      ],
      "metadata": {
        "colab": {
          "base_uri": "https://localhost:8080/"
        },
        "id": "R2QypoxW2rxn",
        "outputId": "c14e2b40-ef36-4c40-d1ed-b95e8c3a46c1"
      },
      "execution_count": 19,
      "outputs": [
        {
          "output_type": "stream",
          "name": "stdout",
          "text": [
            "  (0, 0)\t0.4323850887896905\n",
            "  (0, 11)\t0.4323850887896905\n",
            "  (0, 10)\t0.25537359879528915\n",
            "  (0, 7)\t0.4323850887896905\n",
            "  (0, 2)\t0.4323850887896905\n",
            "  (0, 9)\t0.4323850887896905\n",
            "  (1, 6)\t0.382941573926791\n",
            "  (1, 8)\t0.382941573926791\n",
            "  (1, 13)\t0.382941573926791\n",
            "  (1, 5)\t0.2912369374639482\n",
            "  (1, 12)\t0.5824738749278964\n",
            "  (1, 14)\t0.2912369374639482\n",
            "  (1, 10)\t0.226171462424281\n",
            "  (2, 3)\t0.4435025580042657\n",
            "  (2, 1)\t0.4435025580042657\n",
            "  (2, 4)\t0.4435025580042657\n",
            "  (2, 5)\t0.33729512684167956\n",
            "  (2, 12)\t0.33729512684167956\n",
            "  (2, 14)\t0.33729512684167956\n",
            "  (2, 10)\t0.26193975520639246\n"
          ]
        }
      ]
    },
    {
      "cell_type": "code",
      "source": [
        "print(f\"Teks dokumen ke-{2+1}:\\n{komentar[2]}\")\n",
        "print(f\"Fitur Name ke-10: {vectorizer.get_feature_names()[10]}\")"
      ],
      "metadata": {
        "colab": {
          "base_uri": "https://localhost:8080/"
        },
        "id": "PxkwmxHB2uNH",
        "outputId": "64b0d3ca-7759-4146-82e8-e97985cea49f"
      },
      "execution_count": 21,
      "outputs": [
        {
          "output_type": "stream",
          "name": "stdout",
          "text": [
            "Teks dokumen ke-3:\n",
            "Tidak sesuai ekspetasi produk berbeda dengan gambar\n",
            "Fitur Name ke-10: produk\n"
          ]
        }
      ]
    },
    {
      "cell_type": "code",
      "source": [
        "result.todense()"
      ],
      "metadata": {
        "colab": {
          "base_uri": "https://localhost:8080/"
        },
        "id": "Ok9MYtuo3f59",
        "outputId": "0d8cf75f-b3ad-4bf3-8853-a38ccb217ef4"
      },
      "execution_count": 22,
      "outputs": [
        {
          "output_type": "execute_result",
          "data": {
            "text/plain": [
              "matrix([[0.43238509, 0.        , 0.43238509, 0.        , 0.        ,\n",
              "         0.        , 0.        , 0.43238509, 0.        , 0.43238509,\n",
              "         0.2553736 , 0.43238509, 0.        , 0.        , 0.        ],\n",
              "        [0.        , 0.        , 0.        , 0.        , 0.        ,\n",
              "         0.29123694, 0.38294157, 0.        , 0.38294157, 0.        ,\n",
              "         0.22617146, 0.        , 0.58247387, 0.38294157, 0.29123694],\n",
              "        [0.        , 0.44350256, 0.        , 0.44350256, 0.44350256,\n",
              "         0.33729513, 0.        , 0.        , 0.        , 0.        ,\n",
              "         0.26193976, 0.        , 0.33729513, 0.        , 0.33729513]])"
            ]
          },
          "metadata": {},
          "execution_count": 22
        }
      ]
    },
    {
      "cell_type": "code",
      "source": [
        "df = pd.DataFrame(result.todense().T,\n",
        "                  index=vectorizer.get_feature_names(),\n",
        "                  columns=[f\"D{i+1}\" for i in range(len(komentar))])\n",
        "df"
      ],
      "metadata": {
        "colab": {
          "base_uri": "https://localhost:8080/",
          "height": 520
        },
        "id": "Wo7F_y_-3z3G",
        "outputId": "b3ce4786-6e44-450d-c31c-fa2a3293e950"
      },
      "execution_count": 23,
      "outputs": [
        {
          "output_type": "execute_result",
          "data": {
            "text/plain": [
              "                  D1        D2        D3\n",
              "baik        0.432385  0.000000  0.000000\n",
              "berbeda     0.000000  0.000000  0.443503\n",
              "dan         0.432385  0.000000  0.000000\n",
              "dengan      0.000000  0.000000  0.443503\n",
              "ekspetasi   0.000000  0.000000  0.443503\n",
              "gambar      0.000000  0.291237  0.337295\n",
              "harga       0.000000  0.382942  0.000000\n",
              "kualitas    0.432385  0.000000  0.000000\n",
              "memang      0.000000  0.382942  0.000000\n",
              "pengiriman  0.432385  0.000000  0.000000\n",
              "produk      0.255374  0.226171  0.261940\n",
              "sangat      0.432385  0.000000  0.000000\n",
              "sesuai      0.000000  0.582474  0.337295\n",
              "tapi        0.000000  0.382942  0.000000\n",
              "tidak       0.000000  0.291237  0.337295"
            ],
            "text/html": [
              "\n",
              "  <div id=\"df-56c3033d-cbb5-499c-8a9d-28b97a3e793e\">\n",
              "    <div class=\"colab-df-container\">\n",
              "      <div>\n",
              "<style scoped>\n",
              "    .dataframe tbody tr th:only-of-type {\n",
              "        vertical-align: middle;\n",
              "    }\n",
              "\n",
              "    .dataframe tbody tr th {\n",
              "        vertical-align: top;\n",
              "    }\n",
              "\n",
              "    .dataframe thead th {\n",
              "        text-align: right;\n",
              "    }\n",
              "</style>\n",
              "<table border=\"1\" class=\"dataframe\">\n",
              "  <thead>\n",
              "    <tr style=\"text-align: right;\">\n",
              "      <th></th>\n",
              "      <th>D1</th>\n",
              "      <th>D2</th>\n",
              "      <th>D3</th>\n",
              "    </tr>\n",
              "  </thead>\n",
              "  <tbody>\n",
              "    <tr>\n",
              "      <th>baik</th>\n",
              "      <td>0.432385</td>\n",
              "      <td>0.000000</td>\n",
              "      <td>0.000000</td>\n",
              "    </tr>\n",
              "    <tr>\n",
              "      <th>berbeda</th>\n",
              "      <td>0.000000</td>\n",
              "      <td>0.000000</td>\n",
              "      <td>0.443503</td>\n",
              "    </tr>\n",
              "    <tr>\n",
              "      <th>dan</th>\n",
              "      <td>0.432385</td>\n",
              "      <td>0.000000</td>\n",
              "      <td>0.000000</td>\n",
              "    </tr>\n",
              "    <tr>\n",
              "      <th>dengan</th>\n",
              "      <td>0.000000</td>\n",
              "      <td>0.000000</td>\n",
              "      <td>0.443503</td>\n",
              "    </tr>\n",
              "    <tr>\n",
              "      <th>ekspetasi</th>\n",
              "      <td>0.000000</td>\n",
              "      <td>0.000000</td>\n",
              "      <td>0.443503</td>\n",
              "    </tr>\n",
              "    <tr>\n",
              "      <th>gambar</th>\n",
              "      <td>0.000000</td>\n",
              "      <td>0.291237</td>\n",
              "      <td>0.337295</td>\n",
              "    </tr>\n",
              "    <tr>\n",
              "      <th>harga</th>\n",
              "      <td>0.000000</td>\n",
              "      <td>0.382942</td>\n",
              "      <td>0.000000</td>\n",
              "    </tr>\n",
              "    <tr>\n",
              "      <th>kualitas</th>\n",
              "      <td>0.432385</td>\n",
              "      <td>0.000000</td>\n",
              "      <td>0.000000</td>\n",
              "    </tr>\n",
              "    <tr>\n",
              "      <th>memang</th>\n",
              "      <td>0.000000</td>\n",
              "      <td>0.382942</td>\n",
              "      <td>0.000000</td>\n",
              "    </tr>\n",
              "    <tr>\n",
              "      <th>pengiriman</th>\n",
              "      <td>0.432385</td>\n",
              "      <td>0.000000</td>\n",
              "      <td>0.000000</td>\n",
              "    </tr>\n",
              "    <tr>\n",
              "      <th>produk</th>\n",
              "      <td>0.255374</td>\n",
              "      <td>0.226171</td>\n",
              "      <td>0.261940</td>\n",
              "    </tr>\n",
              "    <tr>\n",
              "      <th>sangat</th>\n",
              "      <td>0.432385</td>\n",
              "      <td>0.000000</td>\n",
              "      <td>0.000000</td>\n",
              "    </tr>\n",
              "    <tr>\n",
              "      <th>sesuai</th>\n",
              "      <td>0.000000</td>\n",
              "      <td>0.582474</td>\n",
              "      <td>0.337295</td>\n",
              "    </tr>\n",
              "    <tr>\n",
              "      <th>tapi</th>\n",
              "      <td>0.000000</td>\n",
              "      <td>0.382942</td>\n",
              "      <td>0.000000</td>\n",
              "    </tr>\n",
              "    <tr>\n",
              "      <th>tidak</th>\n",
              "      <td>0.000000</td>\n",
              "      <td>0.291237</td>\n",
              "      <td>0.337295</td>\n",
              "    </tr>\n",
              "  </tbody>\n",
              "</table>\n",
              "</div>\n",
              "      <button class=\"colab-df-convert\" onclick=\"convertToInteractive('df-56c3033d-cbb5-499c-8a9d-28b97a3e793e')\"\n",
              "              title=\"Convert this dataframe to an interactive table.\"\n",
              "              style=\"display:none;\">\n",
              "        \n",
              "  <svg xmlns=\"http://www.w3.org/2000/svg\" height=\"24px\"viewBox=\"0 0 24 24\"\n",
              "       width=\"24px\">\n",
              "    <path d=\"M0 0h24v24H0V0z\" fill=\"none\"/>\n",
              "    <path d=\"M18.56 5.44l.94 2.06.94-2.06 2.06-.94-2.06-.94-.94-2.06-.94 2.06-2.06.94zm-11 1L8.5 8.5l.94-2.06 2.06-.94-2.06-.94L8.5 2.5l-.94 2.06-2.06.94zm10 10l.94 2.06.94-2.06 2.06-.94-2.06-.94-.94-2.06-.94 2.06-2.06.94z\"/><path d=\"M17.41 7.96l-1.37-1.37c-.4-.4-.92-.59-1.43-.59-.52 0-1.04.2-1.43.59L10.3 9.45l-7.72 7.72c-.78.78-.78 2.05 0 2.83L4 21.41c.39.39.9.59 1.41.59.51 0 1.02-.2 1.41-.59l7.78-7.78 2.81-2.81c.8-.78.8-2.07 0-2.86zM5.41 20L4 18.59l7.72-7.72 1.47 1.35L5.41 20z\"/>\n",
              "  </svg>\n",
              "      </button>\n",
              "      \n",
              "  <style>\n",
              "    .colab-df-container {\n",
              "      display:flex;\n",
              "      flex-wrap:wrap;\n",
              "      gap: 12px;\n",
              "    }\n",
              "\n",
              "    .colab-df-convert {\n",
              "      background-color: #E8F0FE;\n",
              "      border: none;\n",
              "      border-radius: 50%;\n",
              "      cursor: pointer;\n",
              "      display: none;\n",
              "      fill: #1967D2;\n",
              "      height: 32px;\n",
              "      padding: 0 0 0 0;\n",
              "      width: 32px;\n",
              "    }\n",
              "\n",
              "    .colab-df-convert:hover {\n",
              "      background-color: #E2EBFA;\n",
              "      box-shadow: 0px 1px 2px rgba(60, 64, 67, 0.3), 0px 1px 3px 1px rgba(60, 64, 67, 0.15);\n",
              "      fill: #174EA6;\n",
              "    }\n",
              "\n",
              "    [theme=dark] .colab-df-convert {\n",
              "      background-color: #3B4455;\n",
              "      fill: #D2E3FC;\n",
              "    }\n",
              "\n",
              "    [theme=dark] .colab-df-convert:hover {\n",
              "      background-color: #434B5C;\n",
              "      box-shadow: 0px 1px 3px 1px rgba(0, 0, 0, 0.15);\n",
              "      filter: drop-shadow(0px 1px 2px rgba(0, 0, 0, 0.3));\n",
              "      fill: #FFFFFF;\n",
              "    }\n",
              "  </style>\n",
              "\n",
              "      <script>\n",
              "        const buttonEl =\n",
              "          document.querySelector('#df-56c3033d-cbb5-499c-8a9d-28b97a3e793e button.colab-df-convert');\n",
              "        buttonEl.style.display =\n",
              "          google.colab.kernel.accessAllowed ? 'block' : 'none';\n",
              "\n",
              "        async function convertToInteractive(key) {\n",
              "          const element = document.querySelector('#df-56c3033d-cbb5-499c-8a9d-28b97a3e793e');\n",
              "          const dataTable =\n",
              "            await google.colab.kernel.invokeFunction('convertToInteractive',\n",
              "                                                     [key], {});\n",
              "          if (!dataTable) return;\n",
              "\n",
              "          const docLinkHtml = 'Like what you see? Visit the ' +\n",
              "            '<a target=\"_blank\" href=https://colab.research.google.com/notebooks/data_table.ipynb>data table notebook</a>'\n",
              "            + ' to learn more about interactive tables.';\n",
              "          element.innerHTML = '';\n",
              "          dataTable['output_type'] = 'display_data';\n",
              "          await google.colab.output.renderOutput(dataTable, element);\n",
              "          const docLink = document.createElement('div');\n",
              "          docLink.innerHTML = docLinkHtml;\n",
              "          element.appendChild(docLink);\n",
              "        }\n",
              "      </script>\n",
              "    </div>\n",
              "  </div>\n",
              "  "
            ]
          },
          "metadata": {},
          "execution_count": 23
        }
      ]
    },
    {
      "cell_type": "code",
      "source": [
        "from sklearn.metrics.pairwise import cosine_similarity, cosine_distances"
      ],
      "metadata": {
        "id": "1gX14o8W33wV"
      },
      "execution_count": 24,
      "outputs": []
    },
    {
      "cell_type": "code",
      "source": [
        "doc1 = 'Pengiriman dan kualitas produk sangat baik'\n",
        "doc2 = 'Produk tidak sesuai gambar tapi memang sesuai harga'\n",
        "doc3 = 'Tidak sesuai ekspetasi produk berbeda dengan gambar'"
      ],
      "metadata": {
        "id": "yrvZ71Wi39w2"
      },
      "execution_count": 25,
      "outputs": []
    },
    {
      "cell_type": "code",
      "source": [
        "import pandas as pd\n",
        "\n",
        "df = pd.DataFrame([\n",
        "        {'pengiriman':1, 'dan':1, 'kualitas':1, 'produk':1, 'sangat':1, 'baik':1, 'tidak':0, 'sesuai':0, 'gambar':0, 'tapi':0, 'memang':0, 'harga':0, 'ekspetasi':0, 'berbeda':0, 'dengan':0},\n",
        "        {'produk':1, 'tidak':1, 'sesuai':2, 'gambar':1, 'tapi':1, 'memang':1, 'harga':1, 'pengiriman':0, 'dan':0, 'kualitas':0, 'sangat':0, 'baik':0, 'ekspetasi':0, 'berbeda':0, 'dengan':0},\n",
        "        {'tidak':1, 'sesuai':1, 'ekspetasi':1, 'produk':1, 'berbeda':1, 'dengan':1, 'gambar':1, 'pengiriman':0, 'dan':0, 'kualitas':0, 'sangat':0, 'baik':0, 'tapi':0, 'memang':0, 'harga':0},\n",
        "\n",
        "  ],\n",
        "  index=[\n",
        "      \"doc1\",\n",
        "      \"doc2\",\n",
        "      \"doc3\"\n",
        "  ])\n",
        "\n",
        "df"
      ],
      "metadata": {
        "colab": {
          "base_uri": "https://localhost:8080/",
          "height": 143
        },
        "id": "Oe8XT8Hn4I6t",
        "outputId": "f500247a-cfa2-49e5-f0fe-763b7ee1af00"
      },
      "execution_count": 26,
      "outputs": [
        {
          "output_type": "execute_result",
          "data": {
            "text/plain": [
              "      pengiriman  dan  kualitas  produk  sangat  baik  tidak  sesuai  gambar  \\\n",
              "doc1           1    1         1       1       1     1      0       0       0   \n",
              "doc2           0    0         0       1       0     0      1       2       1   \n",
              "doc3           0    0         0       1       0     0      1       1       1   \n",
              "\n",
              "      tapi  memang  harga  ekspetasi  berbeda  dengan  \n",
              "doc1     0       0      0          0        0       0  \n",
              "doc2     1       1      1          0        0       0  \n",
              "doc3     0       0      0          1        1       1  "
            ],
            "text/html": [
              "\n",
              "  <div id=\"df-59dbbf00-8dfa-4092-b38c-a744636bebb8\">\n",
              "    <div class=\"colab-df-container\">\n",
              "      <div>\n",
              "<style scoped>\n",
              "    .dataframe tbody tr th:only-of-type {\n",
              "        vertical-align: middle;\n",
              "    }\n",
              "\n",
              "    .dataframe tbody tr th {\n",
              "        vertical-align: top;\n",
              "    }\n",
              "\n",
              "    .dataframe thead th {\n",
              "        text-align: right;\n",
              "    }\n",
              "</style>\n",
              "<table border=\"1\" class=\"dataframe\">\n",
              "  <thead>\n",
              "    <tr style=\"text-align: right;\">\n",
              "      <th></th>\n",
              "      <th>pengiriman</th>\n",
              "      <th>dan</th>\n",
              "      <th>kualitas</th>\n",
              "      <th>produk</th>\n",
              "      <th>sangat</th>\n",
              "      <th>baik</th>\n",
              "      <th>tidak</th>\n",
              "      <th>sesuai</th>\n",
              "      <th>gambar</th>\n",
              "      <th>tapi</th>\n",
              "      <th>memang</th>\n",
              "      <th>harga</th>\n",
              "      <th>ekspetasi</th>\n",
              "      <th>berbeda</th>\n",
              "      <th>dengan</th>\n",
              "    </tr>\n",
              "  </thead>\n",
              "  <tbody>\n",
              "    <tr>\n",
              "      <th>doc1</th>\n",
              "      <td>1</td>\n",
              "      <td>1</td>\n",
              "      <td>1</td>\n",
              "      <td>1</td>\n",
              "      <td>1</td>\n",
              "      <td>1</td>\n",
              "      <td>0</td>\n",
              "      <td>0</td>\n",
              "      <td>0</td>\n",
              "      <td>0</td>\n",
              "      <td>0</td>\n",
              "      <td>0</td>\n",
              "      <td>0</td>\n",
              "      <td>0</td>\n",
              "      <td>0</td>\n",
              "    </tr>\n",
              "    <tr>\n",
              "      <th>doc2</th>\n",
              "      <td>0</td>\n",
              "      <td>0</td>\n",
              "      <td>0</td>\n",
              "      <td>1</td>\n",
              "      <td>0</td>\n",
              "      <td>0</td>\n",
              "      <td>1</td>\n",
              "      <td>2</td>\n",
              "      <td>1</td>\n",
              "      <td>1</td>\n",
              "      <td>1</td>\n",
              "      <td>1</td>\n",
              "      <td>0</td>\n",
              "      <td>0</td>\n",
              "      <td>0</td>\n",
              "    </tr>\n",
              "    <tr>\n",
              "      <th>doc3</th>\n",
              "      <td>0</td>\n",
              "      <td>0</td>\n",
              "      <td>0</td>\n",
              "      <td>1</td>\n",
              "      <td>0</td>\n",
              "      <td>0</td>\n",
              "      <td>1</td>\n",
              "      <td>1</td>\n",
              "      <td>1</td>\n",
              "      <td>0</td>\n",
              "      <td>0</td>\n",
              "      <td>0</td>\n",
              "      <td>1</td>\n",
              "      <td>1</td>\n",
              "      <td>1</td>\n",
              "    </tr>\n",
              "  </tbody>\n",
              "</table>\n",
              "</div>\n",
              "      <button class=\"colab-df-convert\" onclick=\"convertToInteractive('df-59dbbf00-8dfa-4092-b38c-a744636bebb8')\"\n",
              "              title=\"Convert this dataframe to an interactive table.\"\n",
              "              style=\"display:none;\">\n",
              "        \n",
              "  <svg xmlns=\"http://www.w3.org/2000/svg\" height=\"24px\"viewBox=\"0 0 24 24\"\n",
              "       width=\"24px\">\n",
              "    <path d=\"M0 0h24v24H0V0z\" fill=\"none\"/>\n",
              "    <path d=\"M18.56 5.44l.94 2.06.94-2.06 2.06-.94-2.06-.94-.94-2.06-.94 2.06-2.06.94zm-11 1L8.5 8.5l.94-2.06 2.06-.94-2.06-.94L8.5 2.5l-.94 2.06-2.06.94zm10 10l.94 2.06.94-2.06 2.06-.94-2.06-.94-.94-2.06-.94 2.06-2.06.94z\"/><path d=\"M17.41 7.96l-1.37-1.37c-.4-.4-.92-.59-1.43-.59-.52 0-1.04.2-1.43.59L10.3 9.45l-7.72 7.72c-.78.78-.78 2.05 0 2.83L4 21.41c.39.39.9.59 1.41.59.51 0 1.02-.2 1.41-.59l7.78-7.78 2.81-2.81c.8-.78.8-2.07 0-2.86zM5.41 20L4 18.59l7.72-7.72 1.47 1.35L5.41 20z\"/>\n",
              "  </svg>\n",
              "      </button>\n",
              "      \n",
              "  <style>\n",
              "    .colab-df-container {\n",
              "      display:flex;\n",
              "      flex-wrap:wrap;\n",
              "      gap: 12px;\n",
              "    }\n",
              "\n",
              "    .colab-df-convert {\n",
              "      background-color: #E8F0FE;\n",
              "      border: none;\n",
              "      border-radius: 50%;\n",
              "      cursor: pointer;\n",
              "      display: none;\n",
              "      fill: #1967D2;\n",
              "      height: 32px;\n",
              "      padding: 0 0 0 0;\n",
              "      width: 32px;\n",
              "    }\n",
              "\n",
              "    .colab-df-convert:hover {\n",
              "      background-color: #E2EBFA;\n",
              "      box-shadow: 0px 1px 2px rgba(60, 64, 67, 0.3), 0px 1px 3px 1px rgba(60, 64, 67, 0.15);\n",
              "      fill: #174EA6;\n",
              "    }\n",
              "\n",
              "    [theme=dark] .colab-df-convert {\n",
              "      background-color: #3B4455;\n",
              "      fill: #D2E3FC;\n",
              "    }\n",
              "\n",
              "    [theme=dark] .colab-df-convert:hover {\n",
              "      background-color: #434B5C;\n",
              "      box-shadow: 0px 1px 3px 1px rgba(0, 0, 0, 0.15);\n",
              "      filter: drop-shadow(0px 1px 2px rgba(0, 0, 0, 0.3));\n",
              "      fill: #FFFFFF;\n",
              "    }\n",
              "  </style>\n",
              "\n",
              "      <script>\n",
              "        const buttonEl =\n",
              "          document.querySelector('#df-59dbbf00-8dfa-4092-b38c-a744636bebb8 button.colab-df-convert');\n",
              "        buttonEl.style.display =\n",
              "          google.colab.kernel.accessAllowed ? 'block' : 'none';\n",
              "\n",
              "        async function convertToInteractive(key) {\n",
              "          const element = document.querySelector('#df-59dbbf00-8dfa-4092-b38c-a744636bebb8');\n",
              "          const dataTable =\n",
              "            await google.colab.kernel.invokeFunction('convertToInteractive',\n",
              "                                                     [key], {});\n",
              "          if (!dataTable) return;\n",
              "\n",
              "          const docLinkHtml = 'Like what you see? Visit the ' +\n",
              "            '<a target=\"_blank\" href=https://colab.research.google.com/notebooks/data_table.ipynb>data table notebook</a>'\n",
              "            + ' to learn more about interactive tables.';\n",
              "          element.innerHTML = '';\n",
              "          dataTable['output_type'] = 'display_data';\n",
              "          await google.colab.output.renderOutput(dataTable, element);\n",
              "          const docLink = document.createElement('div');\n",
              "          docLink.innerHTML = docLinkHtml;\n",
              "          element.appendChild(docLink);\n",
              "        }\n",
              "      </script>\n",
              "    </div>\n",
              "  </div>\n",
              "  "
            ]
          },
          "metadata": {},
          "execution_count": 26
        }
      ]
    },
    {
      "cell_type": "code",
      "source": [
        "df.loc[\"doc1\":\"doc1\"]"
      ],
      "metadata": {
        "colab": {
          "base_uri": "https://localhost:8080/",
          "height": 81
        },
        "id": "vsbP-iF_66UT",
        "outputId": "7d09b5ba-b25e-4554-a546-109e17565577"
      },
      "execution_count": 28,
      "outputs": [
        {
          "output_type": "execute_result",
          "data": {
            "text/plain": [
              "      pengiriman  dan  kualitas  produk  sangat  baik  tidak  sesuai  gambar  \\\n",
              "doc1           1    1         1       1       1     1      0       0       0   \n",
              "\n",
              "      tapi  memang  harga  ekspetasi  berbeda  dengan  \n",
              "doc1     0       0      0          0        0       0  "
            ],
            "text/html": [
              "\n",
              "  <div id=\"df-fc6f23d9-0750-4a4d-9a6f-8c956b21bb94\">\n",
              "    <div class=\"colab-df-container\">\n",
              "      <div>\n",
              "<style scoped>\n",
              "    .dataframe tbody tr th:only-of-type {\n",
              "        vertical-align: middle;\n",
              "    }\n",
              "\n",
              "    .dataframe tbody tr th {\n",
              "        vertical-align: top;\n",
              "    }\n",
              "\n",
              "    .dataframe thead th {\n",
              "        text-align: right;\n",
              "    }\n",
              "</style>\n",
              "<table border=\"1\" class=\"dataframe\">\n",
              "  <thead>\n",
              "    <tr style=\"text-align: right;\">\n",
              "      <th></th>\n",
              "      <th>pengiriman</th>\n",
              "      <th>dan</th>\n",
              "      <th>kualitas</th>\n",
              "      <th>produk</th>\n",
              "      <th>sangat</th>\n",
              "      <th>baik</th>\n",
              "      <th>tidak</th>\n",
              "      <th>sesuai</th>\n",
              "      <th>gambar</th>\n",
              "      <th>tapi</th>\n",
              "      <th>memang</th>\n",
              "      <th>harga</th>\n",
              "      <th>ekspetasi</th>\n",
              "      <th>berbeda</th>\n",
              "      <th>dengan</th>\n",
              "    </tr>\n",
              "  </thead>\n",
              "  <tbody>\n",
              "    <tr>\n",
              "      <th>doc1</th>\n",
              "      <td>1</td>\n",
              "      <td>1</td>\n",
              "      <td>1</td>\n",
              "      <td>1</td>\n",
              "      <td>1</td>\n",
              "      <td>1</td>\n",
              "      <td>0</td>\n",
              "      <td>0</td>\n",
              "      <td>0</td>\n",
              "      <td>0</td>\n",
              "      <td>0</td>\n",
              "      <td>0</td>\n",
              "      <td>0</td>\n",
              "      <td>0</td>\n",
              "      <td>0</td>\n",
              "    </tr>\n",
              "  </tbody>\n",
              "</table>\n",
              "</div>\n",
              "      <button class=\"colab-df-convert\" onclick=\"convertToInteractive('df-fc6f23d9-0750-4a4d-9a6f-8c956b21bb94')\"\n",
              "              title=\"Convert this dataframe to an interactive table.\"\n",
              "              style=\"display:none;\">\n",
              "        \n",
              "  <svg xmlns=\"http://www.w3.org/2000/svg\" height=\"24px\"viewBox=\"0 0 24 24\"\n",
              "       width=\"24px\">\n",
              "    <path d=\"M0 0h24v24H0V0z\" fill=\"none\"/>\n",
              "    <path d=\"M18.56 5.44l.94 2.06.94-2.06 2.06-.94-2.06-.94-.94-2.06-.94 2.06-2.06.94zm-11 1L8.5 8.5l.94-2.06 2.06-.94-2.06-.94L8.5 2.5l-.94 2.06-2.06.94zm10 10l.94 2.06.94-2.06 2.06-.94-2.06-.94-.94-2.06-.94 2.06-2.06.94z\"/><path d=\"M17.41 7.96l-1.37-1.37c-.4-.4-.92-.59-1.43-.59-.52 0-1.04.2-1.43.59L10.3 9.45l-7.72 7.72c-.78.78-.78 2.05 0 2.83L4 21.41c.39.39.9.59 1.41.59.51 0 1.02-.2 1.41-.59l7.78-7.78 2.81-2.81c.8-.78.8-2.07 0-2.86zM5.41 20L4 18.59l7.72-7.72 1.47 1.35L5.41 20z\"/>\n",
              "  </svg>\n",
              "      </button>\n",
              "      \n",
              "  <style>\n",
              "    .colab-df-container {\n",
              "      display:flex;\n",
              "      flex-wrap:wrap;\n",
              "      gap: 12px;\n",
              "    }\n",
              "\n",
              "    .colab-df-convert {\n",
              "      background-color: #E8F0FE;\n",
              "      border: none;\n",
              "      border-radius: 50%;\n",
              "      cursor: pointer;\n",
              "      display: none;\n",
              "      fill: #1967D2;\n",
              "      height: 32px;\n",
              "      padding: 0 0 0 0;\n",
              "      width: 32px;\n",
              "    }\n",
              "\n",
              "    .colab-df-convert:hover {\n",
              "      background-color: #E2EBFA;\n",
              "      box-shadow: 0px 1px 2px rgba(60, 64, 67, 0.3), 0px 1px 3px 1px rgba(60, 64, 67, 0.15);\n",
              "      fill: #174EA6;\n",
              "    }\n",
              "\n",
              "    [theme=dark] .colab-df-convert {\n",
              "      background-color: #3B4455;\n",
              "      fill: #D2E3FC;\n",
              "    }\n",
              "\n",
              "    [theme=dark] .colab-df-convert:hover {\n",
              "      background-color: #434B5C;\n",
              "      box-shadow: 0px 1px 3px 1px rgba(0, 0, 0, 0.15);\n",
              "      filter: drop-shadow(0px 1px 2px rgba(0, 0, 0, 0.3));\n",
              "      fill: #FFFFFF;\n",
              "    }\n",
              "  </style>\n",
              "\n",
              "      <script>\n",
              "        const buttonEl =\n",
              "          document.querySelector('#df-fc6f23d9-0750-4a4d-9a6f-8c956b21bb94 button.colab-df-convert');\n",
              "        buttonEl.style.display =\n",
              "          google.colab.kernel.accessAllowed ? 'block' : 'none';\n",
              "\n",
              "        async function convertToInteractive(key) {\n",
              "          const element = document.querySelector('#df-fc6f23d9-0750-4a4d-9a6f-8c956b21bb94');\n",
              "          const dataTable =\n",
              "            await google.colab.kernel.invokeFunction('convertToInteractive',\n",
              "                                                     [key], {});\n",
              "          if (!dataTable) return;\n",
              "\n",
              "          const docLinkHtml = 'Like what you see? Visit the ' +\n",
              "            '<a target=\"_blank\" href=https://colab.research.google.com/notebooks/data_table.ipynb>data table notebook</a>'\n",
              "            + ' to learn more about interactive tables.';\n",
              "          element.innerHTML = '';\n",
              "          dataTable['output_type'] = 'display_data';\n",
              "          await google.colab.output.renderOutput(dataTable, element);\n",
              "          const docLink = document.createElement('div');\n",
              "          docLink.innerHTML = docLinkHtml;\n",
              "          element.appendChild(docLink);\n",
              "        }\n",
              "      </script>\n",
              "    </div>\n",
              "  </div>\n",
              "  "
            ]
          },
          "metadata": {},
          "execution_count": 28
        }
      ]
    },
    {
      "cell_type": "code",
      "source": [
        "cosine_similarity(df.loc[\"doc1\":\"doc1\"],df.loc[\"doc2\":\"doc2\"],df.loc[\"doc3\":\"doc3\"])"
      ],
      "metadata": {
        "colab": {
          "base_uri": "https://localhost:8080/"
        },
        "id": "70WLUSwI7Cxz",
        "outputId": "02f177f9-167a-4a23-bc87-504ed9097b76"
      },
      "execution_count": 29,
      "outputs": [
        {
          "output_type": "execute_result",
          "data": {
            "text/plain": [
              "array([[0.12909944]])"
            ]
          },
          "metadata": {},
          "execution_count": 29
        }
      ]
    }
  ]
}