{
  "nbformat": 4,
  "nbformat_minor": 0,
  "metadata": {
    "colab": {
      "provenance": []
    },
    "kernelspec": {
      "name": "python3",
      "display_name": "Python 3"
    },
    "language_info": {
      "name": "python"
    },
    "accelerator": "GPU",
    "gpuClass": "standard"
  },
  "cells": [
    {
      "cell_type": "markdown",
      "source": [
        "#WEB SCRAPING"
      ],
      "metadata": {
        "id": "oGaaNF-Vua_X"
      }
    },
    {
      "cell_type": "code",
      "execution_count": null,
      "metadata": {
        "id": "c5xOYBIh-pz1"
      },
      "outputs": [],
      "source": [
        "import requests\n",
        "from bs4 import BeautifulSoup"
      ]
    },
    {
      "cell_type": "code",
      "source": [
        "result = requests.get('https://www.detik.com/sulsel/berita/d-6204148/urutan-nama-planet-tata-surya-sejarah-penamaan-dan-fakta-faktanya')"
      ],
      "metadata": {
        "id": "vY0Q26oF3PSN"
      },
      "execution_count": null,
      "outputs": []
    },
    {
      "cell_type": "code",
      "source": [
        "# Mengubah Encoding menjadi utf-8 | Jika tidak dikonversi ke utf-8 untuk karakter khusus \n",
        "# seperti \",'/- dll akan menjadi karakter yang sulit dipahami\n",
        "result.encoding = result.apparent_encoding\n",
        "result.encoding"
      ],
      "metadata": {
        "colab": {
          "base_uri": "https://localhost:8080/",
          "height": 35
        },
        "id": "G9-EEzVj3SkQ",
        "outputId": "ed2ec32f-4ca6-4b62-e8cf-532826cdba96"
      },
      "execution_count": null,
      "outputs": [
        {
          "output_type": "execute_result",
          "data": {
            "text/plain": [
              "'ascii'"
            ],
            "application/vnd.google.colaboratory.intrinsic+json": {
              "type": "string"
            }
          },
          "metadata": {},
          "execution_count": 35
        }
      ]
    },
    {
      "cell_type": "code",
      "source": [
        "wp = BeautifulSoup(result.text, \"html.parser\")"
      ],
      "metadata": {
        "id": "tYAayImS3ieh"
      },
      "execution_count": null,
      "outputs": []
    },
    {
      "cell_type": "code",
      "source": [
        "# Mengambil bagian html dengan tag p paling awal (paragraph)\n",
        "wp.find(\"p\")"
      ],
      "metadata": {
        "colab": {
          "base_uri": "https://localhost:8080/"
        },
        "id": "DsjRmbLB3kok",
        "outputId": "ee7788c2-c7cc-47f4-f49b-dc2b548dd660"
      },
      "execution_count": null,
      "outputs": [
        {
          "output_type": "execute_result",
          "data": {
            "text/plain": [
              "<p>Urutan nama <a href=\"https://www.detik.com/tag/planet-tata-surya\">planet tata surya</a> disusun berdasarkan jarak terdekat hingga terjauh dari matahari. Berdasarkan data Jet Propulsion Laboratory (JPL) The National Aeronautics and Space Administration (NASA) terdapat terdapat 8 planet dalam tata surya.</p>"
            ]
          },
          "metadata": {},
          "execution_count": 37
        }
      ]
    },
    {
      "cell_type": "code",
      "source": [
        "# Mengambil bagian html dengan tag p paling awal, tapi hanya value-nya saja.\n",
        "wp.find(\"p\").getText()"
      ],
      "metadata": {
        "colab": {
          "base_uri": "https://localhost:8080/",
          "height": 53
        },
        "id": "CfsLylei3xfu",
        "outputId": "e9dcb810-eae6-4402-b5d7-7e4369a0d7ab"
      },
      "execution_count": null,
      "outputs": [
        {
          "output_type": "execute_result",
          "data": {
            "text/plain": [
              "'Urutan nama planet tata surya disusun berdasarkan jarak terdekat hingga terjauh dari matahari. Berdasarkan data Jet Propulsion Laboratory (JPL) The National Aeronautics and Space Administration (NASA) terdapat terdapat 8 planet dalam tata surya.'"
            ],
            "application/vnd.google.colaboratory.intrinsic+json": {
              "type": "string"
            }
          },
          "metadata": {},
          "execution_count": 38
        }
      ]
    },
    {
      "cell_type": "code",
      "source": [
        "wp.find('p').getText()"
      ],
      "metadata": {
        "colab": {
          "base_uri": "https://localhost:8080/",
          "height": 53
        },
        "id": "b9_LIo6L3ze5",
        "outputId": "f2165eb3-0f4f-4cee-8e39-9d9059480e41"
      },
      "execution_count": null,
      "outputs": [
        {
          "output_type": "execute_result",
          "data": {
            "text/plain": [
              "'Urutan nama planet tata surya disusun berdasarkan jarak terdekat hingga terjauh dari matahari. Berdasarkan data Jet Propulsion Laboratory (JPL) The National Aeronautics and Space Administration (NASA) terdapat terdapat 8 planet dalam tata surya.'"
            ],
            "application/vnd.google.colaboratory.intrinsic+json": {
              "type": "string"
            }
          },
          "metadata": {},
          "execution_count": 39
        }
      ]
    },
    {
      "cell_type": "code",
      "source": [
        "# Mengambil bagian html dengan tag p (secara keseluruhan)\n",
        "wp.find_all(\"p\")"
      ],
      "metadata": {
        "colab": {
          "base_uri": "https://localhost:8080/"
        },
        "id": "lnPrkPfR314I",
        "outputId": "3f779076-b7b7-4814-c0e0-3eac03c489c6"
      },
      "execution_count": null,
      "outputs": [
        {
          "output_type": "execute_result",
          "data": {
            "text/plain": [
              "[<p>Urutan nama <a href=\"https://www.detik.com/tag/planet-tata-surya\">planet tata surya</a> disusun berdasarkan jarak terdekat hingga terjauh dari matahari. Berdasarkan data Jet Propulsion Laboratory (JPL) The National Aeronautics and Space Administration (NASA) terdapat terdapat 8 planet dalam tata surya.</p>,\n",
              " <p>Tata Surya memiliki delapan planet yang mengorbit Matahari. Berdasarkan jaraknya dari matahari, urutan nama planet tata surya yakni Merkurius, Venus, Bumi, Mars, Jupiter, Saturnus, Uranus, dan Neptunus.</p>,\n",
              " <p>Sebelumnya, Pluto termasuk dalam urutan nama planet tata surya. Namun, Persatuan Astronomi Internasional (International Astronomical Union/IAU) mengubah status Pluto pada tahun 2006 dari sebuah planet menjadi planet kerdil.</p>,\n",
              " <p>Planet terbesar dalam tata surya adalah Jupiter. Sedangkan planet terkecil sekaligus terdekat dari matahari adalah Merkurius.</p>,\n",
              " <p>Melansir Cool Cosmos, Website Pendidikan Astronomi Inframerah NASA, urutan nama planet tata surya diberikan berdasarkan nama Dewa-Dewi Romawi dan Yunani, terkecuali Bumi. Penamaan ini disesuaikan dengan sifat serta fakta-fakta yang meliputi planet tersebut.</p>,\n",
              " <p><strong>Berikut urutan nama planet tata surya lengkap dengan penjelasan sejarah penamaan serta fakta-faktanya:</strong></p>,\n",
              " <p>Urutan nama planet tata surya pertama adalah Merkurius. Planet Merkurius memiliki jarak terdekat dengan matahari yakni 57,900,000<br>kilometer (km).</br></p>,\n",
              " <p>Planet Merkurius memiliki diameter 4,879 km. Planet Merkurius memiliki permukaan berbatu abu-abu gelap yang ditutupi dengan lapisan debu tebal yang diperkirakan terdiri dari batuan silikat beku dan debu.</p>,\n",
              " <p>Nama Planet Merkurius diambil dari nama dewa urusan Romawi, Merkurius. Dewa Merkurius juga merupakan dewa para pelancong.</p>,\n",
              " <p>Menurut mitos, dia memiliki topi dan sandal bersayap, sehingga dia bisa terbang. Nama ini disematkan karena Planet Merkurius adalah planet tercepat saat bergerak mengelilingi matahari.</p>,\n",
              " <p>Urutan nama Planet Tata Surya ke dua adalah Venus. Jarak Planet Venus dari matahari mencapai 108,200,000 km dan memiliki diameter 12,104 km.</p>,\n",
              " <p>Planet Venus memiliki warna agak kekuningan. Warna ini diciptakan atmosfer karbon dioksida yang tebal dan awan asam sulfat yang menyelimuti Planet Venus.</p>,\n",
              " <p>Planet Venus juga dijuluki sebagai bintang fajar. Hal ini karena Planet Venus merupakan salah satu objek paling terang di langit malam.</p>,\n",
              " <p>Planet Venus sangat cerah karena awan tebalnya memantulkan sebagian besar sinar matahari yang mencapainya (sekitar 70%) kembali ke luar angkasa, dan karena Planet Venus terdekat dengan Bumi maka dapat terlihat di langit. Planet Venus sering terlihat dalam beberapa jam setelah matahari terbenam atau sebelum matahari terbit.</p>,\n",
              " <p>Penamaan Planet Venus juga diambil dari nama Dewa Romawi. Planet terdekat dengan Bumi ini dinamai menggunakan nama dewi cinta dan kecantikan Romawi, Venus. Sesuai dengan penampilan Planet Venus yang terang di langit malam.</p>,\n",
              " <p><em>Selanjutnya ada Planet Bumi...</em></p>,\n",
              " <p>\n",
              " <div class=\"detail__multiple\">\n",
              " <div class=\"flex-between detail__multiple-bg mgt-16\">\n",
              " <div class=\"detail__anchor mgr-4\">\n",
              " <span class=\"mgr-8\">Halaman</span>\n",
              " <a class=\"detail__anchor-numb detail__anchor-numb--active\" dtr-act=\"artikel\" dtr-evt=\"selanjutnya\" dtr-id=\"6204148\" dtr-idx=\"1\" dtr-sec=\"\" dtr-ttl=\"Urutan Nama Planet Tata Surya, Sejarah Penamaan dan Fakta-faktanya\" href=\"https://www.detik.com/sulsel/berita/d-6204148/urutan-nama-planet-tata-surya-sejarah-penamaan-dan-fakta-faktanya/1\" onclick=\"_pt(this)\" rel=\"nofollow\">\n",
              "                     1                </a>\n",
              " <a class=\"detail__anchor-numb \" dtr-act=\"artikel\" dtr-evt=\"selanjutnya\" dtr-id=\"6204148\" dtr-idx=\"2\" dtr-sec=\"\" dtr-ttl=\"Urutan Nama Planet Tata Surya, Sejarah Penamaan dan Fakta-faktanya\" href=\"https://www.detik.com/sulsel/berita/d-6204148/urutan-nama-planet-tata-surya-sejarah-penamaan-dan-fakta-faktanya/2\" onclick=\"_pt(this)\" rel=\"nofollow\">\n",
              "                     2                </a>\n",
              " <a class=\"detail__anchor-numb \" dtr-act=\"artikel\" dtr-evt=\"selanjutnya\" dtr-id=\"6204148\" dtr-idx=\"3\" dtr-sec=\"\" dtr-ttl=\"Urutan Nama Planet Tata Surya, Sejarah Penamaan dan Fakta-faktanya\" href=\"https://www.detik.com/sulsel/berita/d-6204148/urutan-nama-planet-tata-surya-sejarah-penamaan-dan-fakta-faktanya/3\" onclick=\"_pt(this)\" rel=\"nofollow\">\n",
              "                     3                </a>\n",
              " <a class=\"detail__anchor-numb \" dtr-act=\"artikel\" dtr-evt=\"selanjutnya\" dtr-id=\"6204148\" dtr-idx=\"4\" dtr-sec=\"\" dtr-ttl=\"Urutan Nama Planet Tata Surya, Sejarah Penamaan dan Fakta-faktanya\" href=\"https://www.detik.com/sulsel/berita/d-6204148/urutan-nama-planet-tata-surya-sejarah-penamaan-dan-fakta-faktanya/4\" onclick=\"_pt(this)\" rel=\"nofollow\">\n",
              "                     4                </a>\n",
              " </div>\n",
              " <a class=\"btn btn--paging btn--sm mgt-8 mgb-8\" dtr-act=\"button selanjutnya\" dtr-evt=\"selanjutnya\" dtr-id=\"6204148\" dtr-sec=\"\" dtr-ttl=\"Urutan Nama Planet Tata Surya, Sejarah Penamaan dan Fakta-faktanya\" href=\"https://www.detik.com/sulsel/berita/d-6204148/urutan-nama-planet-tata-surya-sejarah-penamaan-dan-fakta-faktanya/2\" onclick=\"_pt(this)\" rel=\"nofollow\">\n",
              "                 Selanjutnya <i class=\"icon icon-chevron-right\"></i>\n",
              " </a>\n",
              " </div>\n",
              " </div>\n",
              " <div class=\"detail__body-tag mgt-16\">\n",
              " <div class=\"nav\">\n",
              " <a class=\"nav__item\" dtr-act=\"tag\" dtr-evt=\"tag\" dtr-idx=\" 1\" dtr-sec=\"\" dtr-ttl=\"urutan nama planet tata surya\" href=\"https://www.detik.com/tag/urutan-nama-planet-tata-surya/\" onclick=\"_pt(this)\">urutan nama planet tata surya</a> <a class=\"nav__item\" dtr-act=\"tag\" dtr-evt=\"tag\" dtr-idx=\" 2\" dtr-sec=\"\" dtr-ttl=\"urutan planet di tata surya\" href=\"https://www.detik.com/tag/urutan-planet-di-tata-surya/\" onclick=\"_pt(this)\">urutan planet di tata surya</a> <a class=\"nav__item\" dtr-act=\"tag\" dtr-evt=\"tag\" dtr-idx=\" 3\" dtr-sec=\"\" dtr-ttl=\"tata surya\" href=\"https://www.detik.com/tag/tata-surya/\" onclick=\"_pt(this)\">tata surya</a> <a class=\"nav__item\" dtr-act=\"tag\" dtr-evt=\"tag\" dtr-idx=\" 4\" dtr-sec=\"\" dtr-ttl=\"makassar\" href=\"https://www.detik.com/tag/makassar/\" onclick=\"_pt(this)\">makassar</a> <a class=\"nav__item\" dtr-act=\"tag\" dtr-evt=\"tag\" dtr-idx=\" 5\" dtr-sec=\"\" dtr-ttl=\"sulsel\" href=\"https://www.detik.com/tag/sulsel/\" onclick=\"_pt(this)\">sulsel</a> <a class=\"nav__item\" dtr-act=\"tag\" dtr-evt=\"tag\" dtr-idx=\" 6\" dtr-sec=\"\" dtr-ttl=\"sulawesi selatan\" href=\"https://www.detik.com/tag/sulawesi-selatan/\" onclick=\"_pt(this)\">sulawesi selatan</a> </div>\n",
              " </div>\n",
              " </p>]"
            ]
          },
          "metadata": {},
          "execution_count": 40
        }
      ]
    },
    {
      "cell_type": "markdown",
      "source": [
        "![image.png](data:image/png;base64,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)"
      ],
      "metadata": {
        "id": "Y5qg0gBT_EJv"
      }
    },
    {
      "cell_type": "code",
      "source": [
        "#lengkapilah! sesuai kode diatas!\n",
        "full_text = []\n",
        "for paragraf in wp.find_all('p'):\n",
        "  full_text.append(paragraf.getText())\n",
        "\n",
        "full_text"
      ],
      "metadata": {
        "colab": {
          "base_uri": "https://localhost:8080/"
        },
        "id": "W4HjeLCE332b",
        "outputId": "11d91858-f243-4b98-c130-516742e44ab5"
      },
      "execution_count": null,
      "outputs": [
        {
          "output_type": "execute_result",
          "data": {
            "text/plain": [
              "['Urutan nama planet tata surya disusun berdasarkan jarak terdekat hingga terjauh dari matahari. Berdasarkan data Jet Propulsion Laboratory (JPL) The National Aeronautics and Space Administration (NASA) terdapat terdapat 8 planet dalam tata surya.',\n",
              " 'Tata Surya memiliki delapan planet yang mengorbit Matahari. Berdasarkan jaraknya dari matahari, urutan nama planet tata surya yakni Merkurius, Venus, Bumi, Mars, Jupiter, Saturnus, Uranus, dan Neptunus.',\n",
              " 'Sebelumnya, Pluto termasuk dalam urutan nama planet tata surya. Namun, Persatuan Astronomi Internasional (International Astronomical Union/IAU) mengubah status Pluto pada tahun 2006 dari sebuah planet menjadi planet kerdil.',\n",
              " 'Planet terbesar dalam tata surya adalah Jupiter. Sedangkan planet terkecil sekaligus terdekat dari matahari adalah Merkurius.',\n",
              " 'Melansir Cool Cosmos, Website Pendidikan Astronomi Inframerah NASA, urutan nama planet tata surya diberikan berdasarkan nama Dewa-Dewi Romawi dan Yunani, terkecuali Bumi. Penamaan ini disesuaikan dengan sifat serta fakta-fakta yang meliputi planet tersebut.',\n",
              " 'Berikut urutan nama planet tata surya lengkap dengan penjelasan sejarah penamaan serta fakta-faktanya:',\n",
              " 'Urutan nama planet tata surya pertama adalah Merkurius. Planet Merkurius memiliki jarak terdekat dengan matahari yakni 57,900,000kilometer (km).',\n",
              " 'Planet Merkurius memiliki diameter 4,879 km. Planet Merkurius memiliki permukaan berbatu abu-abu gelap yang ditutupi dengan lapisan debu tebal yang diperkirakan terdiri dari batuan silikat beku dan debu.',\n",
              " 'Nama Planet Merkurius diambil dari nama dewa urusan Romawi, Merkurius. Dewa Merkurius juga merupakan dewa para pelancong.',\n",
              " 'Menurut mitos, dia memiliki topi dan sandal bersayap, sehingga dia bisa terbang. Nama ini disematkan karena Planet Merkurius adalah planet tercepat saat bergerak mengelilingi matahari.',\n",
              " 'Urutan nama Planet Tata Surya ke dua adalah Venus. Jarak Planet Venus dari matahari mencapai 108,200,000 km dan memiliki diameter 12,104 km.',\n",
              " 'Planet Venus memiliki warna agak kekuningan. Warna ini diciptakan atmosfer karbon dioksida yang tebal dan awan asam sulfat yang menyelimuti Planet Venus.',\n",
              " 'Planet Venus juga dijuluki sebagai bintang fajar. Hal ini karena Planet Venus merupakan salah satu objek paling terang di langit malam.',\n",
              " 'Planet Venus sangat cerah karena awan tebalnya memantulkan sebagian besar sinar matahari yang mencapainya (sekitar 70%) kembali ke luar angkasa, dan karena Planet Venus terdekat dengan Bumi maka dapat terlihat di langit. Planet Venus sering terlihat dalam beberapa jam setelah matahari terbenam atau sebelum matahari terbit.',\n",
              " 'Penamaan Planet Venus juga diambil dari nama Dewa Romawi. Planet terdekat dengan Bumi ini dinamai menggunakan nama dewi cinta dan kecantikan Romawi, Venus. Sesuai dengan penampilan Planet Venus yang terang di langit malam.',\n",
              " 'Selanjutnya ada Planet Bumi...',\n",
              " '\\n\\n\\n\\nHalaman\\n\\n                    1                \\n\\n                    2                \\n\\n                    3                \\n\\n                    4                \\n\\n\\n                Selanjutnya \\n\\n\\n\\n\\n\\nurutan nama planet tata surya urutan planet di tata surya tata surya makassar sulsel sulawesi selatan \\n\\n']"
            ]
          },
          "metadata": {},
          "execution_count": 41
        }
      ]
    },
    {
      "cell_type": "markdown",
      "source": [
        "> Terlihat bahwa link text masih banyak whitespace atau spasi kosong yang terdapat pada list sehingga perlu dibersihkan juga."
      ],
      "metadata": {
        "id": "dksg2xgK4EsE"
      }
    },
    {
      "cell_type": "code",
      "source": [
        "# Menghapus None dari list full_text sekaligus membersihkan elemen list dari whitespace menggunakan fungsi strip()\n",
        "# List Comprehension\n",
        "full_text = [paragraf.strip() for paragraf in full_text if paragraf != \"\"]\n",
        "full_text"
      ],
      "metadata": {
        "colab": {
          "base_uri": "https://localhost:8080/"
        },
        "id": "MwtW8-jG374_",
        "outputId": "53d05a9d-eecb-434a-ae89-2886fa602488"
      },
      "execution_count": null,
      "outputs": [
        {
          "output_type": "execute_result",
          "data": {
            "text/plain": [
              "['Urutan nama planet tata surya disusun berdasarkan jarak terdekat hingga terjauh dari matahari. Berdasarkan data Jet Propulsion Laboratory (JPL) The National Aeronautics and Space Administration (NASA) terdapat terdapat 8 planet dalam tata surya.',\n",
              " 'Tata Surya memiliki delapan planet yang mengorbit Matahari. Berdasarkan jaraknya dari matahari, urutan nama planet tata surya yakni Merkurius, Venus, Bumi, Mars, Jupiter, Saturnus, Uranus, dan Neptunus.',\n",
              " 'Sebelumnya, Pluto termasuk dalam urutan nama planet tata surya. Namun, Persatuan Astronomi Internasional (International Astronomical Union/IAU) mengubah status Pluto pada tahun 2006 dari sebuah planet menjadi planet kerdil.',\n",
              " 'Planet terbesar dalam tata surya adalah Jupiter. Sedangkan planet terkecil sekaligus terdekat dari matahari adalah Merkurius.',\n",
              " 'Melansir Cool Cosmos, Website Pendidikan Astronomi Inframerah NASA, urutan nama planet tata surya diberikan berdasarkan nama Dewa-Dewi Romawi dan Yunani, terkecuali Bumi. Penamaan ini disesuaikan dengan sifat serta fakta-fakta yang meliputi planet tersebut.',\n",
              " 'Berikut urutan nama planet tata surya lengkap dengan penjelasan sejarah penamaan serta fakta-faktanya:',\n",
              " 'Urutan nama planet tata surya pertama adalah Merkurius. Planet Merkurius memiliki jarak terdekat dengan matahari yakni 57,900,000kilometer (km).',\n",
              " 'Planet Merkurius memiliki diameter 4,879 km. Planet Merkurius memiliki permukaan berbatu abu-abu gelap yang ditutupi dengan lapisan debu tebal yang diperkirakan terdiri dari batuan silikat beku dan debu.',\n",
              " 'Nama Planet Merkurius diambil dari nama dewa urusan Romawi, Merkurius. Dewa Merkurius juga merupakan dewa para pelancong.',\n",
              " 'Menurut mitos, dia memiliki topi dan sandal bersayap, sehingga dia bisa terbang. Nama ini disematkan karena Planet Merkurius adalah planet tercepat saat bergerak mengelilingi matahari.',\n",
              " 'Urutan nama Planet Tata Surya ke dua adalah Venus. Jarak Planet Venus dari matahari mencapai 108,200,000 km dan memiliki diameter 12,104 km.',\n",
              " 'Planet Venus memiliki warna agak kekuningan. Warna ini diciptakan atmosfer karbon dioksida yang tebal dan awan asam sulfat yang menyelimuti Planet Venus.',\n",
              " 'Planet Venus juga dijuluki sebagai bintang fajar. Hal ini karena Planet Venus merupakan salah satu objek paling terang di langit malam.',\n",
              " 'Planet Venus sangat cerah karena awan tebalnya memantulkan sebagian besar sinar matahari yang mencapainya (sekitar 70%) kembali ke luar angkasa, dan karena Planet Venus terdekat dengan Bumi maka dapat terlihat di langit. Planet Venus sering terlihat dalam beberapa jam setelah matahari terbenam atau sebelum matahari terbit.',\n",
              " 'Penamaan Planet Venus juga diambil dari nama Dewa Romawi. Planet terdekat dengan Bumi ini dinamai menggunakan nama dewi cinta dan kecantikan Romawi, Venus. Sesuai dengan penampilan Planet Venus yang terang di langit malam.',\n",
              " 'Selanjutnya ada Planet Bumi...',\n",
              " 'Halaman\\n\\n                    1                \\n\\n                    2                \\n\\n                    3                \\n\\n                    4                \\n\\n\\n                Selanjutnya \\n\\n\\n\\n\\n\\nurutan nama planet tata surya urutan planet di tata surya tata surya makassar sulsel sulawesi selatan']"
            ]
          },
          "metadata": {},
          "execution_count": 43
        }
      ]
    },
    {
      "cell_type": "code",
      "source": [
        "full_text = ' '.join(full_text)\n",
        "full_text"
      ],
      "metadata": {
        "colab": {
          "base_uri": "https://localhost:8080/",
          "height": 140
        },
        "id": "CBqokQE44HWL",
        "outputId": "12e7c594-6148-4b30-9c51-f965f1c8b6d0"
      },
      "execution_count": null,
      "outputs": [
        {
          "output_type": "execute_result",
          "data": {
            "text/plain": [
              "'Urutan nama planet tata surya disusun berdasarkan jarak terdekat hingga terjauh dari matahari. Berdasarkan data Jet Propulsion Laboratory (JPL) The National Aeronautics and Space Administration (NASA) terdapat terdapat 8 planet dalam tata surya. Tata Surya memiliki delapan planet yang mengorbit Matahari. Berdasarkan jaraknya dari matahari, urutan nama planet tata surya yakni Merkurius, Venus, Bumi, Mars, Jupiter, Saturnus, Uranus, dan Neptunus. Sebelumnya, Pluto termasuk dalam urutan nama planet tata surya. Namun, Persatuan Astronomi Internasional (International Astronomical Union/IAU) mengubah status Pluto pada tahun 2006 dari sebuah planet menjadi planet kerdil. Planet terbesar dalam tata surya adalah Jupiter. Sedangkan planet terkecil sekaligus terdekat dari matahari adalah Merkurius. Melansir Cool Cosmos, Website Pendidikan Astronomi Inframerah NASA, urutan nama planet tata surya diberikan berdasarkan nama Dewa-Dewi Romawi dan Yunani, terkecuali Bumi. Penamaan ini disesuaikan dengan sifat serta fakta-fakta yang meliputi planet tersebut. Berikut urutan nama planet tata surya lengkap dengan penjelasan sejarah penamaan serta fakta-faktanya: Urutan nama planet tata surya pertama adalah Merkurius. Planet Merkurius memiliki jarak terdekat dengan matahari yakni 57,900,000kilometer (km). Planet Merkurius memiliki diameter 4,879 km. Planet Merkurius memiliki permukaan berbatu abu-abu gelap yang ditutupi dengan lapisan debu tebal yang diperkirakan terdiri dari batuan silikat beku dan debu. Nama Planet Merkurius diambil dari nama dewa urusan Romawi, Merkurius. Dewa Merkurius juga merupakan dewa para pelancong. Menurut mitos, dia memiliki topi dan sandal bersayap, sehingga dia bisa terbang. Nama ini disematkan karena Planet Merkurius adalah planet tercepat saat bergerak mengelilingi matahari. Urutan nama Planet Tata Surya ke dua adalah Venus. Jarak Planet Venus dari matahari mencapai 108,200,000 km dan memiliki diameter 12,104 km. Planet Venus memiliki warna agak kekuningan. Warna ini diciptakan atmosfer karbon dioksida yang tebal dan awan asam sulfat yang menyelimuti Planet Venus. Planet Venus juga dijuluki sebagai bintang fajar. Hal ini karena Planet Venus merupakan salah satu objek paling terang di langit malam. Planet Venus sangat cerah karena awan tebalnya memantulkan sebagian besar sinar matahari yang mencapainya (sekitar 70%) kembali ke luar angkasa, dan karena Planet Venus terdekat dengan Bumi maka dapat terlihat di langit. Planet Venus sering terlihat dalam beberapa jam setelah matahari terbenam atau sebelum matahari terbit. Penamaan Planet Venus juga diambil dari nama Dewa Romawi. Planet terdekat dengan Bumi ini dinamai menggunakan nama dewi cinta dan kecantikan Romawi, Venus. Sesuai dengan penampilan Planet Venus yang terang di langit malam. Selanjutnya ada Planet Bumi... Halaman\\n\\n                    1                \\n\\n                    2                \\n\\n                    3                \\n\\n                    4                \\n\\n\\n                Selanjutnya \\n\\n\\n\\n\\n\\nurutan nama planet tata surya urutan planet di tata surya tata surya makassar sulsel sulawesi selatan'"
            ],
            "application/vnd.google.colaboratory.intrinsic+json": {
              "type": "string"
            }
          },
          "metadata": {},
          "execution_count": 44
        }
      ]
    },
    {
      "cell_type": "markdown",
      "source": [
        "#2. Crawling Data From Tweeter"
      ],
      "metadata": {
        "id": "BgwGu8Tl5WhQ"
      }
    },
    {
      "cell_type": "code",
      "source": [
        "#import Library\n",
        " #import path directory\n",
        " #import file csv\n",
        " #package untuk crawling data pada tweeter\n",
        " #untuk visualisasi\n",
        "import os\n",
        "import csv\n",
        "import tweepy as tw\n",
        "import pandas as pd"
      ],
      "metadata": {
        "id": "eCw7dDmr4L0K"
      },
      "execution_count": null,
      "outputs": []
    },
    {
      "cell_type": "code",
      "source": [
        "#emanggil data dari tweeter menggunakan API \n",
        "access_token = \"3760416139-MLn5ifjLKCSXh4dWrgmOsSpQ6lYvefNkbQNuM35\"\n",
        "access_token_secret =\"KsKpKqYwCli8YDNJg15y8ZW0quVlfGwrUCrOX4xLZHMaE\"\n",
        "consumer_key =\"gchYjFhHc48sIveGC8fMVa2Sw\"\n",
        "consumer_secret=\"F4wR4cp8CIcAhkUgVFtrOZDg9CDKaroN9O0dkh2vSxgubnoKCb\""
      ],
      "metadata": {
        "id": "_VHtLpRK5zb_"
      },
      "execution_count": null,
      "outputs": []
    },
    {
      "cell_type": "code",
      "source": [
        "auth = tw.OAuthHandler(consumer_key, consumer_secret) #memanggil data concumer_key, consumer_secret\n",
        "auth.set_access_token(access_token, access_token_secret) #memanggil access_token, access_token_secret\n",
        "api = tw.API(auth, wait_on_rate_limit=True) #autentifikasi ke twitter"
      ],
      "metadata": {
        "id": "20ErDX-a6Aud"
      },
      "execution_count": null,
      "outputs": []
    },
    {
      "cell_type": "markdown",
      "source": [
        "pencarian topik"
      ],
      "metadata": {
        "id": "05LJSurcCmu2"
      }
    },
    {
      "cell_type": "code",
      "source": [
        "search_words = \"planet\""
      ],
      "metadata": {
        "id": "7FNYMmfjBt0W"
      },
      "execution_count": null,
      "outputs": []
    },
    {
      "cell_type": "markdown",
      "source": [
        "![image.png](data:image/png;base64,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)"
      ],
      "metadata": {
        "id": "WdA-QHhb_eSF"
      }
    },
    {
      "cell_type": "code",
      "source": [
        "csvFile =open('planet.csv', 'a')\n",
        "#Use csv Writer\n",
        "csvWriter = csv.writer(csvFile)\n",
        "\n",
        "ids = set()\n",
        "csvWriter.writerow(['timetweet','isitweet','favcount', 'retwcount','id','name'])\n",
        "\n",
        "csvFile.close()"
      ],
      "metadata": {
        "id": "Y7WbBzWfClrH"
      },
      "execution_count": null,
      "outputs": []
    },
    {
      "cell_type": "code",
      "source": [
        "csvFile = open('planet.csv', 'a')\n",
        "#Use csv Writer\n",
        "csvWriter = csv.writer(csvFile)\n",
        "\n",
        "ids = set()\n",
        "\n",
        "for tweet in  tw.Cursor(api.search,\n",
        "                   q=search_words,\n",
        "                   date ='2020-12-12', \n",
        "                   lang='id', \n",
        "                   tweet_mode = 'extended').items(90000):\n",
        "  #if (not tweet.retweeted) and ('RT @' not in tweet.full_text):\n",
        "    #Write a row to the csv file/ I use encode utf-8\n",
        "    csvWriter.writerow([tweet.created_at, tweet.full_text.encode('utf_8'), tweet.favorite_count, tweet.retweet_count, tweet.id, tweet.user.screen_name])\n",
        "    #print \"...%s tweets downloaded so far\" % (len(tweet.id))\n",
        "    ids.add(tweet.id) # add new id\n",
        "    #print (\"number of unique ids seen so far: {}\",format(len(ids)))\n",
        "csvFile.close()"
      ],
      "metadata": {
        "id": "QgxddWY0CqaU"
      },
      "execution_count": null,
      "outputs": []
    },
    {
      "cell_type": "code",
      "source": [
        "#with open(path, 'rb') as f: contens = f.read()\n",
        "df = pd.read_csv('planet.csv')\n",
        "df.head()"
      ],
      "metadata": {
        "colab": {
          "base_uri": "https://localhost:8080/",
          "height": 297
        },
        "id": "Pbeee9DkCtGd",
        "outputId": "ad67e3dd-da8e-4c53-ec78-021fd8927fd7"
      },
      "execution_count": null,
      "outputs": [
        {
          "output_type": "execute_result",
          "data": {
            "text/plain": [
              "             timetweet                                           isitweet  \\\n",
              "0  2022-09-27 11:14:43                        b'@agipucing Pindah planet'   \n",
              "1  2022-09-27 11:14:06  b'@ojigotskyy @pandaxxpandaxx lha agenda mulih...   \n",
              "2  2022-09-27 11:14:05  b'RT @JatIkhwan: Malam ni kedudukan planet Jup...   \n",
              "3  2022-09-27 11:13:25                    b'@_ejaaadeh Pindah planet aja'   \n",
              "4  2022-09-27 11:11:53  b'RT @JatIkhwan: Malam ni kedudukan planet Jup...   \n",
              "\n",
              "   favcount  retwcount                   id         name  \n",
              "0         0          0  1574719176903565313   jhamaell07  \n",
              "1         0          0  1574719021374902272    weldgoods  \n",
              "2         0       1094  1574719016941211648    sanseukai  \n",
              "3         0          0  1574718852541599744     spctears  \n",
              "4         0       1094  1574718466783080448  sarahiman00  "
            ],
            "text/html": [
              "\n",
              "  <div id=\"df-39c06393-e046-4954-b4e8-debb3311845c\">\n",
              "    <div class=\"colab-df-container\">\n",
              "      <div>\n",
              "<style scoped>\n",
              "    .dataframe tbody tr th:only-of-type {\n",
              "        vertical-align: middle;\n",
              "    }\n",
              "\n",
              "    .dataframe tbody tr th {\n",
              "        vertical-align: top;\n",
              "    }\n",
              "\n",
              "    .dataframe thead th {\n",
              "        text-align: right;\n",
              "    }\n",
              "</style>\n",
              "<table border=\"1\" class=\"dataframe\">\n",
              "  <thead>\n",
              "    <tr style=\"text-align: right;\">\n",
              "      <th></th>\n",
              "      <th>timetweet</th>\n",
              "      <th>isitweet</th>\n",
              "      <th>favcount</th>\n",
              "      <th>retwcount</th>\n",
              "      <th>id</th>\n",
              "      <th>name</th>\n",
              "    </tr>\n",
              "  </thead>\n",
              "  <tbody>\n",
              "    <tr>\n",
              "      <th>0</th>\n",
              "      <td>2022-09-27 11:14:43</td>\n",
              "      <td>b'@agipucing Pindah planet'</td>\n",
              "      <td>0</td>\n",
              "      <td>0</td>\n",
              "      <td>1574719176903565313</td>\n",
              "      <td>jhamaell07</td>\n",
              "    </tr>\n",
              "    <tr>\n",
              "      <th>1</th>\n",
              "      <td>2022-09-27 11:14:06</td>\n",
              "      <td>b'@ojigotskyy @pandaxxpandaxx lha agenda mulih...</td>\n",
              "      <td>0</td>\n",
              "      <td>0</td>\n",
              "      <td>1574719021374902272</td>\n",
              "      <td>weldgoods</td>\n",
              "    </tr>\n",
              "    <tr>\n",
              "      <th>2</th>\n",
              "      <td>2022-09-27 11:14:05</td>\n",
              "      <td>b'RT @JatIkhwan: Malam ni kedudukan planet Jup...</td>\n",
              "      <td>0</td>\n",
              "      <td>1094</td>\n",
              "      <td>1574719016941211648</td>\n",
              "      <td>sanseukai</td>\n",
              "    </tr>\n",
              "    <tr>\n",
              "      <th>3</th>\n",
              "      <td>2022-09-27 11:13:25</td>\n",
              "      <td>b'@_ejaaadeh Pindah planet aja'</td>\n",
              "      <td>0</td>\n",
              "      <td>0</td>\n",
              "      <td>1574718852541599744</td>\n",
              "      <td>spctears</td>\n",
              "    </tr>\n",
              "    <tr>\n",
              "      <th>4</th>\n",
              "      <td>2022-09-27 11:11:53</td>\n",
              "      <td>b'RT @JatIkhwan: Malam ni kedudukan planet Jup...</td>\n",
              "      <td>0</td>\n",
              "      <td>1094</td>\n",
              "      <td>1574718466783080448</td>\n",
              "      <td>sarahiman00</td>\n",
              "    </tr>\n",
              "  </tbody>\n",
              "</table>\n",
              "</div>\n",
              "      <button class=\"colab-df-convert\" onclick=\"convertToInteractive('df-39c06393-e046-4954-b4e8-debb3311845c')\"\n",
              "              title=\"Convert this dataframe to an interactive table.\"\n",
              "              style=\"display:none;\">\n",
              "        \n",
              "  <svg xmlns=\"http://www.w3.org/2000/svg\" height=\"24px\"viewBox=\"0 0 24 24\"\n",
              "       width=\"24px\">\n",
              "    <path d=\"M0 0h24v24H0V0z\" fill=\"none\"/>\n",
              "    <path d=\"M18.56 5.44l.94 2.06.94-2.06 2.06-.94-2.06-.94-.94-2.06-.94 2.06-2.06.94zm-11 1L8.5 8.5l.94-2.06 2.06-.94-2.06-.94L8.5 2.5l-.94 2.06-2.06.94zm10 10l.94 2.06.94-2.06 2.06-.94-2.06-.94-.94-2.06-.94 2.06-2.06.94z\"/><path d=\"M17.41 7.96l-1.37-1.37c-.4-.4-.92-.59-1.43-.59-.52 0-1.04.2-1.43.59L10.3 9.45l-7.72 7.72c-.78.78-.78 2.05 0 2.83L4 21.41c.39.39.9.59 1.41.59.51 0 1.02-.2 1.41-.59l7.78-7.78 2.81-2.81c.8-.78.8-2.07 0-2.86zM5.41 20L4 18.59l7.72-7.72 1.47 1.35L5.41 20z\"/>\n",
              "  </svg>\n",
              "      </button>\n",
              "      \n",
              "  <style>\n",
              "    .colab-df-container {\n",
              "      display:flex;\n",
              "      flex-wrap:wrap;\n",
              "      gap: 12px;\n",
              "    }\n",
              "\n",
              "    .colab-df-convert {\n",
              "      background-color: #E8F0FE;\n",
              "      border: none;\n",
              "      border-radius: 50%;\n",
              "      cursor: pointer;\n",
              "      display: none;\n",
              "      fill: #1967D2;\n",
              "      height: 32px;\n",
              "      padding: 0 0 0 0;\n",
              "      width: 32px;\n",
              "    }\n",
              "\n",
              "    .colab-df-convert:hover {\n",
              "      background-color: #E2EBFA;\n",
              "      box-shadow: 0px 1px 2px rgba(60, 64, 67, 0.3), 0px 1px 3px 1px rgba(60, 64, 67, 0.15);\n",
              "      fill: #174EA6;\n",
              "    }\n",
              "\n",
              "    [theme=dark] .colab-df-convert {\n",
              "      background-color: #3B4455;\n",
              "      fill: #D2E3FC;\n",
              "    }\n",
              "\n",
              "    [theme=dark] .colab-df-convert:hover {\n",
              "      background-color: #434B5C;\n",
              "      box-shadow: 0px 1px 3px 1px rgba(0, 0, 0, 0.15);\n",
              "      filter: drop-shadow(0px 1px 2px rgba(0, 0, 0, 0.3));\n",
              "      fill: #FFFFFF;\n",
              "    }\n",
              "  </style>\n",
              "\n",
              "      <script>\n",
              "        const buttonEl =\n",
              "          document.querySelector('#df-39c06393-e046-4954-b4e8-debb3311845c button.colab-df-convert');\n",
              "        buttonEl.style.display =\n",
              "          google.colab.kernel.accessAllowed ? 'block' : 'none';\n",
              "\n",
              "        async function convertToInteractive(key) {\n",
              "          const element = document.querySelector('#df-39c06393-e046-4954-b4e8-debb3311845c');\n",
              "          const dataTable =\n",
              "            await google.colab.kernel.invokeFunction('convertToInteractive',\n",
              "                                                     [key], {});\n",
              "          if (!dataTable) return;\n",
              "\n",
              "          const docLinkHtml = 'Like what you see? Visit the ' +\n",
              "            '<a target=\"_blank\" href=https://colab.research.google.com/notebooks/data_table.ipynb>data table notebook</a>'\n",
              "            + ' to learn more about interactive tables.';\n",
              "          element.innerHTML = '';\n",
              "          dataTable['output_type'] = 'display_data';\n",
              "          await google.colab.output.renderOutput(dataTable, element);\n",
              "          const docLink = document.createElement('div');\n",
              "          docLink.innerHTML = docLinkHtml;\n",
              "          element.appendChild(docLink);\n",
              "        }\n",
              "      </script>\n",
              "    </div>\n",
              "  </div>\n",
              "  "
            ]
          },
          "metadata": {},
          "execution_count": 51
        }
      ]
    },
    {
      "cell_type": "code",
      "source": [
        "len(df.index)"
      ],
      "metadata": {
        "colab": {
          "base_uri": "https://localhost:8080/"
        },
        "id": "oEJKRZlhCwI6",
        "outputId": "a6d24ba9-9508-48f4-9fff-3811432a9637"
      },
      "execution_count": null,
      "outputs": [
        {
          "output_type": "execute_result",
          "data": {
            "text/plain": [
              "4127"
            ]
          },
          "metadata": {},
          "execution_count": 52
        }
      ]
    }
  ]
}