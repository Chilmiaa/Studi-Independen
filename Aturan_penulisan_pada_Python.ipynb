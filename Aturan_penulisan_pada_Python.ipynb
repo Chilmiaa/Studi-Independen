{
  "nbformat": 4,
  "nbformat_minor": 0,
  "metadata": {
    "colab": {
      "provenance": [],
      "collapsed_sections": [],
      "authorship_tag": "ABX9TyMdz5VD5y6isD1vF4ESL6WR",
      "include_colab_link": true
    },
    "kernelspec": {
      "name": "python3",
      "display_name": "Python 3"
    },
    "language_info": {
      "name": "python"
    }
  },
  "cells": [
    {
      "cell_type": "markdown",
      "metadata": {
        "id": "view-in-github",
        "colab_type": "text"
      },
      "source": [
        "<a href=\"https://colab.research.google.com/github/Chilmiaa/project-Studi-Independen/blob/main/Aturan_penulisan_pada_Python.ipynb\" target=\"_parent\"><img src=\"https://colab.research.google.com/assets/colab-badge.svg\" alt=\"Open In Colab\"/></a>"
      ]
    },
    {
      "cell_type": "markdown",
      "source": [
        "#Aturan Penulisan Statement pada Basic Python\n"
      ],
      "metadata": {
        "id": "0fqWzDufR8P-"
      }
    },
    {
      "cell_type": "markdown",
      "source": [
        "1. Penulisan satu statement di dalam Python tidak di akhiri dengan tanda titik koma"
      ],
      "metadata": {
        "id": "3B18aJSvR7eD"
      }
    },
    {
      "cell_type": "code",
      "source": [
        "print(\"contoh\")\n",
        "print(\"latihan\")\n",
        "#pada kode di atas kita membuat sebuah program sederhana\n",
        "#jika sukses maka akan menghasilkan output dari syntax diatas"
      ],
      "metadata": {
        "colab": {
          "base_uri": "https://localhost:8080/"
        },
        "id": "hyt1OVSJt18Q",
        "outputId": "b82e4a81-afe9-408a-c0aa-b9bb2c92e874"
      },
      "execution_count": null,
      "outputs": [
        {
          "output_type": "stream",
          "name": "stdout",
          "text": [
            "contoh\n",
            "latihan\n"
          ]
        }
      ]
    },
    {
      "cell_type": "markdown",
      "source": [
        "2. Statement pada python dinyatakan dalam satu baris. Jadi akhir dari sebuah pernyataan adalah baris baru (new line)\n",
        "\n",
        "Selanjutnya kita isi kode python nys dengan kode sebagai berikut"
      ],
      "metadata": {
        "id": "plkZ5Nsaumzl"
      }
    },
    {
      "cell_type": "code",
      "source": [
        "print(\"luas = panjang * lebar\")\n",
        "print('luas = panjang * lebar')\n",
        "\n",
        "#pada kode diatas kita membuat sebuah program sederhana\n",
        "#jika sukses maka akan menghasilkan output dari syntax diatas"
      ],
      "metadata": {
        "colab": {
          "base_uri": "https://localhost:8080/"
        },
        "id": "dqo5ETJvvNl6",
        "outputId": "1f1ffbdf-865c-4d7f-c2b6-f89483dc9c02"
      },
      "execution_count": null,
      "outputs": [
        {
          "output_type": "stream",
          "name": "stdout",
          "text": [
            "luas = panjang * lebar\n",
            "luas = panjang * lebar\n"
          ]
        }
      ]
    },
    {
      "cell_type": "markdown",
      "source": [
        "3.Jika ada pernyataan yang panjangnya lebih dari 1 baris, maka dapat dilakukan dengan menggunakan tanda backslash ()\n",
        "\n",
        "  Selanjutnya kita isi kode python nys dengan kode sebagai berikut"
      ],
      "metadata": {
        "id": "3pqSVIOhZ5-F"
      }
    },
    {
      "cell_type": "code",
      "source": [
        "print(\"volume = panjang*lebar*tinggi\")\n",
        "\n",
        "#pada kode diatas kita membuat sebuah program sederhana\n",
        "#jika sukses maka akan menghasilkan output dari syntax diatas"
      ],
      "metadata": {
        "colab": {
          "base_uri": "https://localhost:8080/"
        },
        "id": "nSPMYfxHaWZ1",
        "outputId": "1d3395f5-c370-4cc2-a497-417a669c321b"
      },
      "execution_count": null,
      "outputs": [
        {
          "output_type": "stream",
          "name": "stdout",
          "text": [
            "volume = panjang*lebar*tinggi\n"
          ]
        }
      ]
    },
    {
      "cell_type": "markdown",
      "source": [
        "4.Statement yang ada di dalam atau diapit oleh tanda kurung seperti \"[], {}, ()\" tidak memerlukan tanda \"\"\n",
        "\n",
        "Selanjutnya kita isi kode python nys dengan kode sebagai berikut"
      ],
      "metadata": {
        "id": "h2GNOM3Tast2"
      }
    },
    {
      "cell_type": "code",
      "source": [
        "nama_hari = ['Senin','Selasa','Rabu','Kamis','Jumat','Sabtu']\n",
        "print(nama_hari)\n",
        "\n",
        "#pada kode diatas kita membuat sebuah program sederhana\n",
        "#jika sukses maka akan menghasilkan output dari syntax diatas"
      ],
      "metadata": {
        "colab": {
          "base_uri": "https://localhost:8080/"
        },
        "id": "xh3IqrOnbbf1",
        "outputId": "0a9a9769-d313-4ac2-a708-d9800b6a505c"
      },
      "execution_count": null,
      "outputs": [
        {
          "output_type": "stream",
          "name": "stdout",
          "text": [
            "['Senin', 'Selasa', 'Rabu', 'Kamis', 'Jumat', 'Sabtu']\n"
          ]
        }
      ]
    },
    {
      "cell_type": "markdown",
      "source": [
        "5. Python menggunakan tanda indentasi (spasi) sebagai penanda blok. Panjang spasi atau indentasi untuk setiap baris yang ada dalam satu blok kode harus sama. Bila spasi atau indentasi dalam satu grup kode tersebut tidak sama, python akan menamplikan sintaks error.\n",
        "\n",
        "Selanjutnya kita isi kode python nys dengan kode sebagai berikut"
      ],
      "metadata": {
        "id": "sR_psxAyb1Tj"
      }
    },
    {
      "cell_type": "code",
      "source": [
        "int(input(\"usia :\"))\n",
        "if usia >=7:\n",
        "  print(\"diterima masuk SD\")\n",
        "  print(\"dinyatakan lulus\")\n",
        "else:\n",
        "  print(\"tidak diterima masuk SD\")\n",
        "  print(\"dinyatakan gagal\")\n",
        "\n",
        "#pada kode diatas kita membuat sebuah program sederhana\n",
        "#jika sukses maka akan menghasilkan output dari syntax diatas"
      ],
      "metadata": {
        "colab": {
          "base_uri": "https://localhost:8080/"
        },
        "id": "hbct-DddcDKf",
        "outputId": "4747bd85-0b4e-4e3c-9fe6-e3a9a2d6bc95"
      },
      "execution_count": null,
      "outputs": [
        {
          "output_type": "stream",
          "name": "stdout",
          "text": [
            "usia :6\n",
            "tidak diterima masuk SD\n",
            "dinyatakan gagal\n"
          ]
        }
      ]
    },
    {
      "cell_type": "markdown",
      "source": [
        "6. Sebaga penanda string, Python menggunakan tanda kutip, baik tunggal ('), maupun ganda(\"). Tanda kutip tiga(\"\"\") digunakan untuk string multibaris\n",
        "\n",
        "Selanjutnya kita isi kode python nys dengan kode sebagai berikut"
      ],
      "metadata": {
        "id": "uUs4ba8Wc5Hc"
      }
    },
    {
      "cell_type": "code",
      "source": [
        "namadepan = 'class'\n",
        "namalengkap = 'class JumaTec' \n",
        "alinea = \"\"\"berikut adalah kalimat\n",
        "yang terdiri dari beberapa baris\"\"\"\n",
        "print(namadepan)\n",
        "print(namalengkap)\n",
        "print(alinea)\n",
        "\n",
        "#pada kode diatas kita membuat sebuah program sederhana\n",
        "#jika sukses maka akan menghasilkan output dari syntax diatas"
      ],
      "metadata": {
        "colab": {
          "base_uri": "https://localhost:8080/"
        },
        "id": "ANP5UzPwdB5G",
        "outputId": "36865e82-d213-4336-d793-b595654e3148"
      },
      "execution_count": null,
      "outputs": [
        {
          "output_type": "stream",
          "name": "stdout",
          "text": [
            "class\n",
            "class JumaTec\n",
            "berikut adalah kalimat\n",
            "yang terdiri dari beberapa baris\n"
          ]
        }
      ]
    },
    {
      "cell_type": "markdown",
      "source": [
        "7.Bahasa Python bersifat case sensitif, yang berarti membedakan huruf besar dan huruf kecil (memiliki nilai yang berbeda)\n",
        "\n",
        "Selanjutnya kita isi kode python nys dengan kode sebagai berikut\n"
      ],
      "metadata": {
        "id": "1DkAOr--eA_7"
      }
    },
    {
      "cell_type": "code",
      "source": [
        "# Contoh statement yang benar\n",
        "luas = 15*3\n",
        "print(luas)\n",
        "\n",
        "# Jika sukses, maka akan menghasilkan output dari syntax diatas"
      ],
      "metadata": {
        "colab": {
          "base_uri": "https://localhost:8080/"
        },
        "id": "Hv0xrpSJeNgM",
        "outputId": "50cd3d66-b5e5-4ef6-a3dc-e49d0a41113f"
      },
      "execution_count": null,
      "outputs": [
        {
          "output_type": "stream",
          "name": "stdout",
          "text": [
            "45\n"
          ]
        }
      ]
    },
    {
      "cell_type": "code",
      "source": [
        "# Contoh statement yang salah\n",
        "luas = 15*3\n",
        "Print(luas)\n",
        "PRINT(luas)"
      ],
      "metadata": {
        "colab": {
          "base_uri": "https://localhost:8080/",
          "height": 218
        },
        "id": "ncS7IutfeXa7",
        "outputId": "4ac54c1f-c89d-4893-d2f4-94a9676841a0"
      },
      "execution_count": null,
      "outputs": [
        {
          "output_type": "error",
          "ename": "NameError",
          "evalue": "ignored",
          "traceback": [
            "\u001b[0;31m---------------------------------------------------------------------------\u001b[0m",
            "\u001b[0;31mNameError\u001b[0m                                 Traceback (most recent call last)",
            "\u001b[0;32m<ipython-input-13-4375d6e3256b>\u001b[0m in \u001b[0;36m<module>\u001b[0;34m\u001b[0m\n\u001b[1;32m      1\u001b[0m \u001b[0;31m# Contoh statement yang salah\u001b[0m\u001b[0;34m\u001b[0m\u001b[0;34m\u001b[0m\u001b[0;34m\u001b[0m\u001b[0m\n\u001b[1;32m      2\u001b[0m \u001b[0mluas\u001b[0m \u001b[0;34m=\u001b[0m \u001b[0;36m15\u001b[0m\u001b[0;34m*\u001b[0m\u001b[0;36m3\u001b[0m\u001b[0;34m\u001b[0m\u001b[0;34m\u001b[0m\u001b[0m\n\u001b[0;32m----> 3\u001b[0;31m \u001b[0mPrint\u001b[0m\u001b[0;34m(\u001b[0m\u001b[0mluas\u001b[0m\u001b[0;34m)\u001b[0m\u001b[0;34m\u001b[0m\u001b[0;34m\u001b[0m\u001b[0m\n\u001b[0m\u001b[1;32m      4\u001b[0m \u001b[0mPRINT\u001b[0m\u001b[0;34m(\u001b[0m\u001b[0mluas\u001b[0m\u001b[0;34m)\u001b[0m\u001b[0;34m\u001b[0m\u001b[0;34m\u001b[0m\u001b[0m\n",
            "\u001b[0;31mNameError\u001b[0m: name 'Print' is not defined"
          ]
        }
      ]
    },
    {
      "cell_type": "markdown",
      "source": [
        "8.Untuk komentar di awali dengan tanda \"#\" yang artinya tidak diproses sebagai statement code #\n",
        "\n",
        "Selanjutnya kita isi kode Python nya dengan kode sebagai berikut."
      ],
      "metadata": {
        "id": "27xAb1hievvO"
      }
    },
    {
      "cell_type": "markdown",
      "source": [],
      "metadata": {
        "id": "gd-lWHuferg3"
      }
    },
    {
      "cell_type": "code",
      "source": [
        "# panjang = 15\n",
        "# lebar = 3\n",
        "# luas = (panjang*lebar)\n",
        "# print(luas)\n"
      ],
      "metadata": {
        "id": "5p3WGM6XfqcF"
      },
      "execution_count": null,
      "outputs": []
    }
  ]
}